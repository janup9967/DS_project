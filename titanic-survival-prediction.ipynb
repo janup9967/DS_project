{
 "cells": [
  {
   "cell_type": "markdown",
   "id": "922bf708",
   "metadata": {
    "papermill": {
     "duration": 0.017598,
     "end_time": "2024-02-29T14:14:39.034767",
     "exception": false,
     "start_time": "2024-02-29T14:14:39.017169",
     "status": "completed"
    },
    "tags": []
   },
   "source": [
    "# <p style=\"background-color:red; font-family:calibri; color:white; font-size:150%; text-align:center; border-radius:15px 50px;\"><span style=\"color: white; font-size: 125%; font-weight: bold;\">Titanic Survival Prediction</span> </p>\n",
    "<img src=\"https://st.depositphotos.com/2569431/2969/i/600/depositphotos_29698885-stock-photo-titanic-oceanliner.jpg\" width=\"350\">\n",
    "<h1 style=\"font-family: 'poppins'; font-weight: bold; color: red;\">👨‍💻Author: Muhammad Danish Mubashar</h1>\n",
    "Hi Everyone! Welcome to my notebook. 📓\n",
    "\n",
    " I'm Data Scientist. I'm passionate about data science, and I'm excited to share my findings with you. 🤓\n",
    "\n",
    "This is a Titanic Survival Prediction notebook that attempts to perform Exploratory Data Analysis (EDA) on the Titanic Dataset and eventually train a ML Models ( XGBoost,Random Forest) and Deep Learning (Neural Network by TensorFlow) on it and enhance the predictions. 🚢🔍\n",
    "\n",
    "Let's explore and then make results and discussion to gain deeper insights from our analysis. 💡\n",
    "\n",
    "If you find this notebook helpful, please consider `upvoting and Follow` ❤️\n",
    "\n"
   ]
  },
  {
   "cell_type": "markdown",
   "id": "64ead9c5",
   "metadata": {
    "papermill": {
     "duration": 0.017628,
     "end_time": "2024-02-29T14:14:39.070033",
     "exception": false,
     "start_time": "2024-02-29T14:14:39.052405",
     "status": "completed"
    },
    "tags": []
   },
   "source": [
    "<span style=\"color: red; font-size: 100%; font-weight: bold;\">If anyone wishes to delve deeper into the subject, kindly follow me through the provided links </span>\n",
    "* [Kaggle](https://www.kaggle.com/danishmubashar) \n",
    "* [Gmail](danish608186@gmail.com) \n",
    "* [Linkedin](https://www.linkedin.com/in/muhammad-danish-mubashar-002b912a0/?originalSubdomain=pk)"
   ]
  },
  {
   "cell_type": "markdown",
   "id": "4e266a0c",
   "metadata": {
    "papermill": {
     "duration": 0.016372,
     "end_time": "2024-02-29T14:14:39.103019",
     "exception": false,
     "start_time": "2024-02-29T14:14:39.086647",
     "status": "completed"
    },
    "tags": []
   },
   "source": [
    "\n",
    "## ***Meta-Data (About Dataset) :***\n",
    "- The data have `891` entries on train dataset and `418` on test dataset\n",
    "- `12` columns in train_csv and `11` columns in test_csv\n",
    "\n",
    "##### ***Variable Definition\tKey***\n",
    "- **survived**\tSurvival\t0 = No, 1 = Yes\n",
    "- **pclass**\tTicket class\t1 = 1st, 2 = 2nd, 3 = 3rd\n",
    "- **sex**\tmale , female\n",
    "- **Age**\tAge in years\t\n",
    "- **sibsp**\t# of siblings / spouses aboard the Titanic\t\n",
    "- **parch**\t# of parents / children aboard the Titanic\t\n",
    "- **ticket**\tTicket number\t\n",
    "- **fare**\tPassenger fare\t\n",
    "- **cabin**\tCabin number\t\n",
    "- **embarked**\tPort of Embarkation\tC = Cherbourg, Q = Queenstown, S = Southampton\n",
    "##### ***Variable Notes***\n",
    "- ***pclass***: A proxy for socio-economic status (SES)\n",
    "1st = Upper\n",
    "2nd = Middle\n",
    "3rd = Lower\n",
    "- ***Age***: Age is fractional if less than 1. If the age is estimated, is it in the form of xx.5\n",
    "- ***Sibsp***: The dataset defines family relations in this way\n",
    "- Sibling  brother, sister, stepbrother, stepsister\n",
    "- Spouse  husband, wife (mistresses and fiancés were ignored)\n",
    "\n",
    "- ***parch***: The dataset defines family relations in this way\n",
    "- ***Parent*** mother, father\n",
    "- ***Child***  daughter, son, stepdaughter, stepson\n",
    "\n",
    "Some children travelled only with a nanny, therefore parch=0 for them."
   ]
  },
  {
   "cell_type": "markdown",
   "id": "bfab9e9a",
   "metadata": {
    "papermill": {
     "duration": 0.016973,
     "end_time": "2024-02-29T14:14:39.137991",
     "exception": false,
     "start_time": "2024-02-29T14:14:39.121018",
     "status": "completed"
    },
    "tags": []
   },
   "source": [
    "## ***Table of Contents***\n",
    "\n",
    "* [Step 1 | Import Libraries](#import)\n",
    "* [Step 2 | Read Dataset](#read)\n",
    "* [Step 3 | Dataset Overview](#overview)\n",
    "* [Step 4 | EDA](#EDA)\n",
    "* [Step 5 | Check Missing Values ](#miss)\n",
    "* [Step 6 | Impute Missing Values ](#impute)\n",
    "* [Step 7 | Outliers](#outlier)\n",
    "* [Step 8 | Machine Learning](#ml)\n",
    "    - [XGBClassifier](#xg)\n",
    "    - [RandomForestClassifier](#random)\n",
    "* [Step 9 | Deep Learning](#deep)\n",
    "    - [Neural Network by Tensorflow](#random)\n",
    "* [Step 10 | Submission](#Submission)\n"
   ]
  },
  {
   "cell_type": "markdown",
   "id": "0dbdecaf",
   "metadata": {
    "papermill": {
     "duration": 0.016339,
     "end_time": "2024-02-29T14:14:39.170952",
     "exception": false,
     "start_time": "2024-02-29T14:14:39.154613",
     "status": "completed"
    },
    "tags": []
   },
   "source": [
    "<a id=\"import\"></a>\n",
    "<span style=\"color: red; font-size: 250%; font-weight: bold;\">Step 1 | Import Libraries</span>\n"
   ]
  },
  {
   "cell_type": "code",
   "execution_count": 1,
   "id": "e3ac92e9",
   "metadata": {
    "execution": {
     "iopub.execute_input": "2024-02-29T14:14:39.206717Z",
     "iopub.status.busy": "2024-02-29T14:14:39.206027Z",
     "iopub.status.idle": "2024-02-29T14:14:42.870205Z",
     "shell.execute_reply": "2024-02-29T14:14:42.868920Z"
    },
    "papermill": {
     "duration": 3.685322,
     "end_time": "2024-02-29T14:14:42.872980",
     "exception": false,
     "start_time": "2024-02-29T14:14:39.187658",
     "status": "completed"
    },
    "tags": []
   },
   "outputs": [],
   "source": [
    "# import libraries\n",
    "\n",
    "# 1. to handle the data\n",
    "import pandas as pd\n",
    "import numpy as np\n",
    "from scipy import stats\n",
    "\n",
    "# to visualize the data\n",
    "import matplotlib.pyplot as plt\n",
    "import seaborn as sns\n",
    "import plotly.express as px\n",
    "\n",
    "\n",
    "# To preprocess the data\n",
    "from sklearn.preprocessing import StandardScaler, MinMaxScaler, LabelEncoder,OneHotEncoder\n",
    "from sklearn.impute import SimpleImputer, KNNImputer\n",
    "# import iterative imputer\n",
    "from sklearn.experimental import enable_iterative_imputer\n",
    "from sklearn.impute import IterativeImputer\n",
    "\n",
    "# machine learning\n",
    "from sklearn.model_selection import train_test_split, GridSearchCV, cross_val_score\n",
    "#for classification tasks\n",
    "\n",
    "from sklearn.ensemble import RandomForestClassifier,  RandomForestRegressor\n",
    "from xgboost import XGBClassifier\n",
    "\n",
    "# pipeline\n",
    "from sklearn.pipeline import Pipeline\n",
    "# metrics\n",
    "from sklearn.metrics import accuracy_score, confusion_matrix,f1_score,precision_score, classification_report, mean_absolute_error,mean_squared_error,r2_score\n",
    "\n",
    "# ignore warnings   \n",
    "import warnings\n",
    "warnings.filterwarnings('ignore')"
   ]
  },
  {
   "cell_type": "markdown",
   "id": "8fafb40f",
   "metadata": {
    "papermill": {
     "duration": 0.016843,
     "end_time": "2024-02-29T14:14:42.906818",
     "exception": false,
     "start_time": "2024-02-29T14:14:42.889975",
     "status": "completed"
    },
    "tags": []
   },
   "source": [
    "<a id=\"read\"></a>\n",
    "<span style=\"color: red; font-size: 250%; font-weight: bold;\">Step 2 | Read Dataset</span>\n"
   ]
  },
  {
   "cell_type": "code",
   "execution_count": 2,
   "id": "dc2d2edc",
   "metadata": {
    "execution": {
     "iopub.execute_input": "2024-02-29T14:14:42.942480Z",
     "iopub.status.busy": "2024-02-29T14:14:42.941672Z",
     "iopub.status.idle": "2024-02-29T14:14:42.970331Z",
     "shell.execute_reply": "2024-02-29T14:14:42.969511Z"
    },
    "papermill": {
     "duration": 0.049176,
     "end_time": "2024-02-29T14:14:42.972645",
     "exception": false,
     "start_time": "2024-02-29T14:14:42.923469",
     "status": "completed"
    },
    "tags": []
   },
   "outputs": [],
   "source": [
    "# load the data\n",
    "df_train = pd.read_csv(\"/kaggle/input/titanic/train.csv\")\n",
    "df_test = pd.read_csv(\"/kaggle/input/titanic/test.csv\")\n",
    "# submission = pd.read_csv('./gender_submission.csv')"
   ]
  },
  {
   "cell_type": "markdown",
   "id": "2fcc553e",
   "metadata": {
    "papermill": {
     "duration": 0.01663,
     "end_time": "2024-02-29T14:14:43.006096",
     "exception": false,
     "start_time": "2024-02-29T14:14:42.989466",
     "status": "completed"
    },
    "tags": []
   },
   "source": [
    "<a id=\"overview\"></a>\n",
    "<span style=\"color: red; font-size: 250%; font-weight: bold;\">Step 3 | Dataset Basic Information</span>\n"
   ]
  },
  {
   "cell_type": "code",
   "execution_count": 3,
   "id": "d47214db",
   "metadata": {
    "execution": {
     "iopub.execute_input": "2024-02-29T14:14:43.042828Z",
     "iopub.status.busy": "2024-02-29T14:14:43.041659Z",
     "iopub.status.idle": "2024-02-29T14:14:43.066498Z",
     "shell.execute_reply": "2024-02-29T14:14:43.065220Z"
    },
    "papermill": {
     "duration": 0.045828,
     "end_time": "2024-02-29T14:14:43.069027",
     "exception": false,
     "start_time": "2024-02-29T14:14:43.023199",
     "status": "completed"
    },
    "tags": []
   },
   "outputs": [
    {
     "data": {
      "text/html": [
       "<div>\n",
       "<style scoped>\n",
       "    .dataframe tbody tr th:only-of-type {\n",
       "        vertical-align: middle;\n",
       "    }\n",
       "\n",
       "    .dataframe tbody tr th {\n",
       "        vertical-align: top;\n",
       "    }\n",
       "\n",
       "    .dataframe thead th {\n",
       "        text-align: right;\n",
       "    }\n",
       "</style>\n",
       "<table border=\"1\" class=\"dataframe\">\n",
       "  <thead>\n",
       "    <tr style=\"text-align: right;\">\n",
       "      <th></th>\n",
       "      <th>PassengerId</th>\n",
       "      <th>Survived</th>\n",
       "      <th>Pclass</th>\n",
       "      <th>Name</th>\n",
       "      <th>Sex</th>\n",
       "      <th>Age</th>\n",
       "      <th>SibSp</th>\n",
       "      <th>Parch</th>\n",
       "      <th>Ticket</th>\n",
       "      <th>Fare</th>\n",
       "      <th>Cabin</th>\n",
       "      <th>Embarked</th>\n",
       "    </tr>\n",
       "  </thead>\n",
       "  <tbody>\n",
       "    <tr>\n",
       "      <th>0</th>\n",
       "      <td>1</td>\n",
       "      <td>0</td>\n",
       "      <td>3</td>\n",
       "      <td>Braund, Mr. Owen Harris</td>\n",
       "      <td>male</td>\n",
       "      <td>22.0</td>\n",
       "      <td>1</td>\n",
       "      <td>0</td>\n",
       "      <td>A/5 21171</td>\n",
       "      <td>7.2500</td>\n",
       "      <td>NaN</td>\n",
       "      <td>S</td>\n",
       "    </tr>\n",
       "    <tr>\n",
       "      <th>1</th>\n",
       "      <td>2</td>\n",
       "      <td>1</td>\n",
       "      <td>1</td>\n",
       "      <td>Cumings, Mrs. John Bradley (Florence Briggs Th...</td>\n",
       "      <td>female</td>\n",
       "      <td>38.0</td>\n",
       "      <td>1</td>\n",
       "      <td>0</td>\n",
       "      <td>PC 17599</td>\n",
       "      <td>71.2833</td>\n",
       "      <td>C85</td>\n",
       "      <td>C</td>\n",
       "    </tr>\n",
       "    <tr>\n",
       "      <th>2</th>\n",
       "      <td>3</td>\n",
       "      <td>1</td>\n",
       "      <td>3</td>\n",
       "      <td>Heikkinen, Miss. Laina</td>\n",
       "      <td>female</td>\n",
       "      <td>26.0</td>\n",
       "      <td>0</td>\n",
       "      <td>0</td>\n",
       "      <td>STON/O2. 3101282</td>\n",
       "      <td>7.9250</td>\n",
       "      <td>NaN</td>\n",
       "      <td>S</td>\n",
       "    </tr>\n",
       "  </tbody>\n",
       "</table>\n",
       "</div>"
      ],
      "text/plain": [
       "   PassengerId  Survived  Pclass  \\\n",
       "0            1         0       3   \n",
       "1            2         1       1   \n",
       "2            3         1       3   \n",
       "\n",
       "                                                Name     Sex   Age  SibSp  \\\n",
       "0                            Braund, Mr. Owen Harris    male  22.0      1   \n",
       "1  Cumings, Mrs. John Bradley (Florence Briggs Th...  female  38.0      1   \n",
       "2                             Heikkinen, Miss. Laina  female  26.0      0   \n",
       "\n",
       "   Parch            Ticket     Fare Cabin Embarked  \n",
       "0      0         A/5 21171   7.2500   NaN        S  \n",
       "1      0          PC 17599  71.2833   C85        C  \n",
       "2      0  STON/O2. 3101282   7.9250   NaN        S  "
      ]
     },
     "execution_count": 3,
     "metadata": {},
     "output_type": "execute_result"
    }
   ],
   "source": [
    "# chech first rows of the train data\n",
    "df_train.head(3)"
   ]
  },
  {
   "cell_type": "code",
   "execution_count": 4,
   "id": "df2bd9fe",
   "metadata": {
    "execution": {
     "iopub.execute_input": "2024-02-29T14:14:43.106480Z",
     "iopub.status.busy": "2024-02-29T14:14:43.105753Z",
     "iopub.status.idle": "2024-02-29T14:14:43.120067Z",
     "shell.execute_reply": "2024-02-29T14:14:43.118887Z"
    },
    "papermill": {
     "duration": 0.035167,
     "end_time": "2024-02-29T14:14:43.122477",
     "exception": false,
     "start_time": "2024-02-29T14:14:43.087310",
     "status": "completed"
    },
    "tags": []
   },
   "outputs": [
    {
     "data": {
      "text/html": [
       "<div>\n",
       "<style scoped>\n",
       "    .dataframe tbody tr th:only-of-type {\n",
       "        vertical-align: middle;\n",
       "    }\n",
       "\n",
       "    .dataframe tbody tr th {\n",
       "        vertical-align: top;\n",
       "    }\n",
       "\n",
       "    .dataframe thead th {\n",
       "        text-align: right;\n",
       "    }\n",
       "</style>\n",
       "<table border=\"1\" class=\"dataframe\">\n",
       "  <thead>\n",
       "    <tr style=\"text-align: right;\">\n",
       "      <th></th>\n",
       "      <th>PassengerId</th>\n",
       "      <th>Pclass</th>\n",
       "      <th>Name</th>\n",
       "      <th>Sex</th>\n",
       "      <th>Age</th>\n",
       "      <th>SibSp</th>\n",
       "      <th>Parch</th>\n",
       "      <th>Ticket</th>\n",
       "      <th>Fare</th>\n",
       "      <th>Cabin</th>\n",
       "      <th>Embarked</th>\n",
       "    </tr>\n",
       "  </thead>\n",
       "  <tbody>\n",
       "    <tr>\n",
       "      <th>0</th>\n",
       "      <td>892</td>\n",
       "      <td>3</td>\n",
       "      <td>Kelly, Mr. James</td>\n",
       "      <td>male</td>\n",
       "      <td>34.5</td>\n",
       "      <td>0</td>\n",
       "      <td>0</td>\n",
       "      <td>330911</td>\n",
       "      <td>7.8292</td>\n",
       "      <td>NaN</td>\n",
       "      <td>Q</td>\n",
       "    </tr>\n",
       "    <tr>\n",
       "      <th>1</th>\n",
       "      <td>893</td>\n",
       "      <td>3</td>\n",
       "      <td>Wilkes, Mrs. James (Ellen Needs)</td>\n",
       "      <td>female</td>\n",
       "      <td>47.0</td>\n",
       "      <td>1</td>\n",
       "      <td>0</td>\n",
       "      <td>363272</td>\n",
       "      <td>7.0000</td>\n",
       "      <td>NaN</td>\n",
       "      <td>S</td>\n",
       "    </tr>\n",
       "    <tr>\n",
       "      <th>2</th>\n",
       "      <td>894</td>\n",
       "      <td>2</td>\n",
       "      <td>Myles, Mr. Thomas Francis</td>\n",
       "      <td>male</td>\n",
       "      <td>62.0</td>\n",
       "      <td>0</td>\n",
       "      <td>0</td>\n",
       "      <td>240276</td>\n",
       "      <td>9.6875</td>\n",
       "      <td>NaN</td>\n",
       "      <td>Q</td>\n",
       "    </tr>\n",
       "  </tbody>\n",
       "</table>\n",
       "</div>"
      ],
      "text/plain": [
       "   PassengerId  Pclass                              Name     Sex   Age  SibSp  \\\n",
       "0          892       3                  Kelly, Mr. James    male  34.5      0   \n",
       "1          893       3  Wilkes, Mrs. James (Ellen Needs)  female  47.0      1   \n",
       "2          894       2         Myles, Mr. Thomas Francis    male  62.0      0   \n",
       "\n",
       "   Parch  Ticket    Fare Cabin Embarked  \n",
       "0      0  330911  7.8292   NaN        Q  \n",
       "1      0  363272  7.0000   NaN        S  \n",
       "2      0  240276  9.6875   NaN        Q  "
      ]
     },
     "execution_count": 4,
     "metadata": {},
     "output_type": "execute_result"
    }
   ],
   "source": [
    "# chech first rows of the test data\n",
    "df_test.head(3)"
   ]
  },
  {
   "cell_type": "code",
   "execution_count": 5,
   "id": "d9f430ac",
   "metadata": {
    "execution": {
     "iopub.execute_input": "2024-02-29T14:14:43.158990Z",
     "iopub.status.busy": "2024-02-29T14:14:43.158595Z",
     "iopub.status.idle": "2024-02-29T14:14:43.185971Z",
     "shell.execute_reply": "2024-02-29T14:14:43.184841Z"
    },
    "papermill": {
     "duration": 0.048398,
     "end_time": "2024-02-29T14:14:43.188296",
     "exception": false,
     "start_time": "2024-02-29T14:14:43.139898",
     "status": "completed"
    },
    "tags": []
   },
   "outputs": [
    {
     "name": "stdout",
     "output_type": "stream",
     "text": [
      "<class 'pandas.core.frame.DataFrame'>\n",
      "RangeIndex: 891 entries, 0 to 890\n",
      "Data columns (total 12 columns):\n",
      " #   Column       Non-Null Count  Dtype  \n",
      "---  ------       --------------  -----  \n",
      " 0   PassengerId  891 non-null    int64  \n",
      " 1   Survived     891 non-null    int64  \n",
      " 2   Pclass       891 non-null    int64  \n",
      " 3   Name         891 non-null    object \n",
      " 4   Sex          891 non-null    object \n",
      " 5   Age          714 non-null    float64\n",
      " 6   SibSp        891 non-null    int64  \n",
      " 7   Parch        891 non-null    int64  \n",
      " 8   Ticket       891 non-null    object \n",
      " 9   Fare         891 non-null    float64\n",
      " 10  Cabin        204 non-null    object \n",
      " 11  Embarked     889 non-null    object \n",
      "dtypes: float64(2), int64(5), object(5)\n",
      "memory usage: 83.7+ KB\n",
      "None\n"
     ]
    }
   ],
   "source": [
    "# basic information of the train data\n",
    "print(df_train.info())"
   ]
  },
  {
   "cell_type": "markdown",
   "id": "e84667ca",
   "metadata": {
    "papermill": {
     "duration": 0.017429,
     "end_time": "2024-02-29T14:14:43.223921",
     "exception": false,
     "start_time": "2024-02-29T14:14:43.206492",
     "status": "completed"
    },
    "tags": []
   },
   "source": [
    ">* Train data have `891` Rows and `12` columns "
   ]
  },
  {
   "cell_type": "code",
   "execution_count": 6,
   "id": "708926f4",
   "metadata": {
    "execution": {
     "iopub.execute_input": "2024-02-29T14:14:43.260705Z",
     "iopub.status.busy": "2024-02-29T14:14:43.260277Z",
     "iopub.status.idle": "2024-02-29T14:14:43.270770Z",
     "shell.execute_reply": "2024-02-29T14:14:43.269752Z"
    },
    "papermill": {
     "duration": 0.031353,
     "end_time": "2024-02-29T14:14:43.272985",
     "exception": false,
     "start_time": "2024-02-29T14:14:43.241632",
     "status": "completed"
    },
    "tags": []
   },
   "outputs": [
    {
     "name": "stdout",
     "output_type": "stream",
     "text": [
      "<class 'pandas.core.frame.DataFrame'>\n",
      "RangeIndex: 418 entries, 0 to 417\n",
      "Data columns (total 11 columns):\n",
      " #   Column       Non-Null Count  Dtype  \n",
      "---  ------       --------------  -----  \n",
      " 0   PassengerId  418 non-null    int64  \n",
      " 1   Pclass       418 non-null    int64  \n",
      " 2   Name         418 non-null    object \n",
      " 3   Sex          418 non-null    object \n",
      " 4   Age          332 non-null    float64\n",
      " 5   SibSp        418 non-null    int64  \n",
      " 6   Parch        418 non-null    int64  \n",
      " 7   Ticket       418 non-null    object \n",
      " 8   Fare         417 non-null    float64\n",
      " 9   Cabin        91 non-null     object \n",
      " 10  Embarked     418 non-null    object \n",
      "dtypes: float64(2), int64(4), object(5)\n",
      "memory usage: 36.0+ KB\n",
      "None\n"
     ]
    }
   ],
   "source": [
    "# basic information of the test data\n",
    "print(df_test.info())"
   ]
  },
  {
   "cell_type": "markdown",
   "id": "d7378336",
   "metadata": {
    "papermill": {
     "duration": 0.017097,
     "end_time": "2024-02-29T14:14:43.308306",
     "exception": false,
     "start_time": "2024-02-29T14:14:43.291209",
     "status": "completed"
    },
    "tags": []
   },
   "source": [
    ">* Teat data have `418` Rows and `11` columns "
   ]
  },
  {
   "cell_type": "code",
   "execution_count": 7,
   "id": "0e8febfd",
   "metadata": {
    "execution": {
     "iopub.execute_input": "2024-02-29T14:14:43.345171Z",
     "iopub.status.busy": "2024-02-29T14:14:43.344381Z",
     "iopub.status.idle": "2024-02-29T14:14:43.376209Z",
     "shell.execute_reply": "2024-02-29T14:14:43.375177Z"
    },
    "papermill": {
     "duration": 0.052608,
     "end_time": "2024-02-29T14:14:43.378405",
     "exception": false,
     "start_time": "2024-02-29T14:14:43.325797",
     "status": "completed"
    },
    "tags": []
   },
   "outputs": [
    {
     "data": {
      "text/html": [
       "<div>\n",
       "<style scoped>\n",
       "    .dataframe tbody tr th:only-of-type {\n",
       "        vertical-align: middle;\n",
       "    }\n",
       "\n",
       "    .dataframe tbody tr th {\n",
       "        vertical-align: top;\n",
       "    }\n",
       "\n",
       "    .dataframe thead th {\n",
       "        text-align: right;\n",
       "    }\n",
       "</style>\n",
       "<table border=\"1\" class=\"dataframe\">\n",
       "  <thead>\n",
       "    <tr style=\"text-align: right;\">\n",
       "      <th></th>\n",
       "      <th>count</th>\n",
       "      <th>mean</th>\n",
       "      <th>std</th>\n",
       "      <th>min</th>\n",
       "      <th>25%</th>\n",
       "      <th>50%</th>\n",
       "      <th>75%</th>\n",
       "      <th>max</th>\n",
       "    </tr>\n",
       "  </thead>\n",
       "  <tbody>\n",
       "    <tr>\n",
       "      <th>PassengerId</th>\n",
       "      <td>891.0</td>\n",
       "      <td>446.000000</td>\n",
       "      <td>257.353842</td>\n",
       "      <td>1.00</td>\n",
       "      <td>223.5000</td>\n",
       "      <td>446.0000</td>\n",
       "      <td>668.5</td>\n",
       "      <td>891.0000</td>\n",
       "    </tr>\n",
       "    <tr>\n",
       "      <th>Survived</th>\n",
       "      <td>891.0</td>\n",
       "      <td>0.383838</td>\n",
       "      <td>0.486592</td>\n",
       "      <td>0.00</td>\n",
       "      <td>0.0000</td>\n",
       "      <td>0.0000</td>\n",
       "      <td>1.0</td>\n",
       "      <td>1.0000</td>\n",
       "    </tr>\n",
       "    <tr>\n",
       "      <th>Pclass</th>\n",
       "      <td>891.0</td>\n",
       "      <td>2.308642</td>\n",
       "      <td>0.836071</td>\n",
       "      <td>1.00</td>\n",
       "      <td>2.0000</td>\n",
       "      <td>3.0000</td>\n",
       "      <td>3.0</td>\n",
       "      <td>3.0000</td>\n",
       "    </tr>\n",
       "    <tr>\n",
       "      <th>Age</th>\n",
       "      <td>714.0</td>\n",
       "      <td>29.699118</td>\n",
       "      <td>14.526497</td>\n",
       "      <td>0.42</td>\n",
       "      <td>20.1250</td>\n",
       "      <td>28.0000</td>\n",
       "      <td>38.0</td>\n",
       "      <td>80.0000</td>\n",
       "    </tr>\n",
       "    <tr>\n",
       "      <th>SibSp</th>\n",
       "      <td>891.0</td>\n",
       "      <td>0.523008</td>\n",
       "      <td>1.102743</td>\n",
       "      <td>0.00</td>\n",
       "      <td>0.0000</td>\n",
       "      <td>0.0000</td>\n",
       "      <td>1.0</td>\n",
       "      <td>8.0000</td>\n",
       "    </tr>\n",
       "    <tr>\n",
       "      <th>Parch</th>\n",
       "      <td>891.0</td>\n",
       "      <td>0.381594</td>\n",
       "      <td>0.806057</td>\n",
       "      <td>0.00</td>\n",
       "      <td>0.0000</td>\n",
       "      <td>0.0000</td>\n",
       "      <td>0.0</td>\n",
       "      <td>6.0000</td>\n",
       "    </tr>\n",
       "    <tr>\n",
       "      <th>Fare</th>\n",
       "      <td>891.0</td>\n",
       "      <td>32.204208</td>\n",
       "      <td>49.693429</td>\n",
       "      <td>0.00</td>\n",
       "      <td>7.9104</td>\n",
       "      <td>14.4542</td>\n",
       "      <td>31.0</td>\n",
       "      <td>512.3292</td>\n",
       "    </tr>\n",
       "  </tbody>\n",
       "</table>\n",
       "</div>"
      ],
      "text/plain": [
       "             count        mean         std   min       25%       50%    75%  \\\n",
       "PassengerId  891.0  446.000000  257.353842  1.00  223.5000  446.0000  668.5   \n",
       "Survived     891.0    0.383838    0.486592  0.00    0.0000    0.0000    1.0   \n",
       "Pclass       891.0    2.308642    0.836071  1.00    2.0000    3.0000    3.0   \n",
       "Age          714.0   29.699118   14.526497  0.42   20.1250   28.0000   38.0   \n",
       "SibSp        891.0    0.523008    1.102743  0.00    0.0000    0.0000    1.0   \n",
       "Parch        891.0    0.381594    0.806057  0.00    0.0000    0.0000    0.0   \n",
       "Fare         891.0   32.204208   49.693429  0.00    7.9104   14.4542   31.0   \n",
       "\n",
       "                  max  \n",
       "PassengerId  891.0000  \n",
       "Survived       1.0000  \n",
       "Pclass         3.0000  \n",
       "Age           80.0000  \n",
       "SibSp          8.0000  \n",
       "Parch          6.0000  \n",
       "Fare         512.3292  "
      ]
     },
     "execution_count": 7,
     "metadata": {},
     "output_type": "execute_result"
    }
   ],
   "source": [
    "df_train.describe().T"
   ]
  },
  {
   "cell_type": "code",
   "execution_count": 8,
   "id": "933aa44c",
   "metadata": {
    "execution": {
     "iopub.execute_input": "2024-02-29T14:14:43.417294Z",
     "iopub.status.busy": "2024-02-29T14:14:43.416543Z",
     "iopub.status.idle": "2024-02-29T14:14:43.443123Z",
     "shell.execute_reply": "2024-02-29T14:14:43.442062Z"
    },
    "papermill": {
     "duration": 0.048131,
     "end_time": "2024-02-29T14:14:43.445294",
     "exception": false,
     "start_time": "2024-02-29T14:14:43.397163",
     "status": "completed"
    },
    "tags": []
   },
   "outputs": [
    {
     "data": {
      "text/html": [
       "<div>\n",
       "<style scoped>\n",
       "    .dataframe tbody tr th:only-of-type {\n",
       "        vertical-align: middle;\n",
       "    }\n",
       "\n",
       "    .dataframe tbody tr th {\n",
       "        vertical-align: top;\n",
       "    }\n",
       "\n",
       "    .dataframe thead th {\n",
       "        text-align: right;\n",
       "    }\n",
       "</style>\n",
       "<table border=\"1\" class=\"dataframe\">\n",
       "  <thead>\n",
       "    <tr style=\"text-align: right;\">\n",
       "      <th></th>\n",
       "      <th>count</th>\n",
       "      <th>mean</th>\n",
       "      <th>std</th>\n",
       "      <th>min</th>\n",
       "      <th>25%</th>\n",
       "      <th>50%</th>\n",
       "      <th>75%</th>\n",
       "      <th>max</th>\n",
       "    </tr>\n",
       "  </thead>\n",
       "  <tbody>\n",
       "    <tr>\n",
       "      <th>PassengerId</th>\n",
       "      <td>418.0</td>\n",
       "      <td>1100.500000</td>\n",
       "      <td>120.810458</td>\n",
       "      <td>892.00</td>\n",
       "      <td>996.2500</td>\n",
       "      <td>1100.5000</td>\n",
       "      <td>1204.75</td>\n",
       "      <td>1309.0000</td>\n",
       "    </tr>\n",
       "    <tr>\n",
       "      <th>Pclass</th>\n",
       "      <td>418.0</td>\n",
       "      <td>2.265550</td>\n",
       "      <td>0.841838</td>\n",
       "      <td>1.00</td>\n",
       "      <td>1.0000</td>\n",
       "      <td>3.0000</td>\n",
       "      <td>3.00</td>\n",
       "      <td>3.0000</td>\n",
       "    </tr>\n",
       "    <tr>\n",
       "      <th>Age</th>\n",
       "      <td>332.0</td>\n",
       "      <td>30.272590</td>\n",
       "      <td>14.181209</td>\n",
       "      <td>0.17</td>\n",
       "      <td>21.0000</td>\n",
       "      <td>27.0000</td>\n",
       "      <td>39.00</td>\n",
       "      <td>76.0000</td>\n",
       "    </tr>\n",
       "    <tr>\n",
       "      <th>SibSp</th>\n",
       "      <td>418.0</td>\n",
       "      <td>0.447368</td>\n",
       "      <td>0.896760</td>\n",
       "      <td>0.00</td>\n",
       "      <td>0.0000</td>\n",
       "      <td>0.0000</td>\n",
       "      <td>1.00</td>\n",
       "      <td>8.0000</td>\n",
       "    </tr>\n",
       "    <tr>\n",
       "      <th>Parch</th>\n",
       "      <td>418.0</td>\n",
       "      <td>0.392344</td>\n",
       "      <td>0.981429</td>\n",
       "      <td>0.00</td>\n",
       "      <td>0.0000</td>\n",
       "      <td>0.0000</td>\n",
       "      <td>0.00</td>\n",
       "      <td>9.0000</td>\n",
       "    </tr>\n",
       "    <tr>\n",
       "      <th>Fare</th>\n",
       "      <td>417.0</td>\n",
       "      <td>35.627188</td>\n",
       "      <td>55.907576</td>\n",
       "      <td>0.00</td>\n",
       "      <td>7.8958</td>\n",
       "      <td>14.4542</td>\n",
       "      <td>31.50</td>\n",
       "      <td>512.3292</td>\n",
       "    </tr>\n",
       "  </tbody>\n",
       "</table>\n",
       "</div>"
      ],
      "text/plain": [
       "             count         mean         std     min       25%        50%  \\\n",
       "PassengerId  418.0  1100.500000  120.810458  892.00  996.2500  1100.5000   \n",
       "Pclass       418.0     2.265550    0.841838    1.00    1.0000     3.0000   \n",
       "Age          332.0    30.272590   14.181209    0.17   21.0000    27.0000   \n",
       "SibSp        418.0     0.447368    0.896760    0.00    0.0000     0.0000   \n",
       "Parch        418.0     0.392344    0.981429    0.00    0.0000     0.0000   \n",
       "Fare         417.0    35.627188   55.907576    0.00    7.8958    14.4542   \n",
       "\n",
       "                 75%        max  \n",
       "PassengerId  1204.75  1309.0000  \n",
       "Pclass          3.00     3.0000  \n",
       "Age            39.00    76.0000  \n",
       "SibSp           1.00     8.0000  \n",
       "Parch           0.00     9.0000  \n",
       "Fare           31.50   512.3292  "
      ]
     },
     "execution_count": 8,
     "metadata": {},
     "output_type": "execute_result"
    }
   ],
   "source": [
    "df_test.describe().T"
   ]
  },
  {
   "cell_type": "markdown",
   "id": "85ffbc93",
   "metadata": {
    "papermill": {
     "duration": 0.019709,
     "end_time": "2024-02-29T14:14:43.483566",
     "exception": false,
     "start_time": "2024-02-29T14:14:43.463857",
     "status": "completed"
    },
    "tags": []
   },
   "source": [
    "<a id=\"EDA\"></a>\n",
    "<span style=\"color: red; font-size: 250%; font-weight: bold;\">Step 4 | Explore Columns</span>"
   ]
  },
  {
   "cell_type": "code",
   "execution_count": 9,
   "id": "8c12c7cc",
   "metadata": {
    "execution": {
     "iopub.execute_input": "2024-02-29T14:14:43.580854Z",
     "iopub.status.busy": "2024-02-29T14:14:43.579752Z",
     "iopub.status.idle": "2024-02-29T14:14:43.586264Z",
     "shell.execute_reply": "2024-02-29T14:14:43.585269Z"
    },
    "papermill": {
     "duration": 0.086369,
     "end_time": "2024-02-29T14:14:43.588230",
     "exception": false,
     "start_time": "2024-02-29T14:14:43.501861",
     "status": "completed"
    },
    "tags": []
   },
   "outputs": [
    {
     "data": {
      "text/plain": [
       "Index(['PassengerId', 'Survived', 'Pclass', 'Name', 'Sex', 'Age', 'SibSp',\n",
       "       'Parch', 'Ticket', 'Fare', 'Cabin', 'Embarked'],\n",
       "      dtype='object')"
      ]
     },
     "execution_count": 9,
     "metadata": {},
     "output_type": "execute_result"
    }
   ],
   "source": [
    "df_train.columns"
   ]
  },
  {
   "cell_type": "markdown",
   "id": "697a92c5",
   "metadata": {
    "papermill": {
     "duration": 0.017746,
     "end_time": "2024-02-29T14:14:43.624244",
     "exception": false,
     "start_time": "2024-02-29T14:14:43.606498",
     "status": "completed"
    },
    "tags": []
   },
   "source": [
    "## ***4.1 : Survived***"
   ]
  },
  {
   "cell_type": "code",
   "execution_count": 10,
   "id": "4e77df07",
   "metadata": {
    "execution": {
     "iopub.execute_input": "2024-02-29T14:14:43.663113Z",
     "iopub.status.busy": "2024-02-29T14:14:43.661706Z",
     "iopub.status.idle": "2024-02-29T14:14:43.670114Z",
     "shell.execute_reply": "2024-02-29T14:14:43.669161Z"
    },
    "papermill": {
     "duration": 0.030248,
     "end_time": "2024-02-29T14:14:43.672665",
     "exception": false,
     "start_time": "2024-02-29T14:14:43.642417",
     "status": "completed"
    },
    "tags": []
   },
   "outputs": [
    {
     "name": "stdout",
     "output_type": "stream",
     "text": [
      "Survived\n",
      "0    549\n",
      "1    342\n",
      "Name: count, dtype: int64\n",
      "----------Train Data----------\n"
     ]
    }
   ],
   "source": [
    "# check value count of Survived \n",
    "print(df_train['Survived'].value_counts())\n",
    "print(\"----------Train Data----------\")\n"
   ]
  },
  {
   "cell_type": "markdown",
   "id": "3bd17ed5",
   "metadata": {
    "papermill": {
     "duration": 0.018062,
     "end_time": "2024-02-29T14:14:43.709310",
     "exception": false,
     "start_time": "2024-02-29T14:14:43.691248",
     "status": "completed"
    },
    "tags": []
   },
   "source": [
    ">* Here `549` are non Survived and `342` Survived"
   ]
  },
  {
   "cell_type": "markdown",
   "id": "3435891b",
   "metadata": {
    "papermill": {
     "duration": 0.018193,
     "end_time": "2024-02-29T14:14:43.745842",
     "exception": false,
     "start_time": "2024-02-29T14:14:43.727649",
     "status": "completed"
    },
    "tags": []
   },
   "source": [
    "## ***4.2 : Pclass***"
   ]
  },
  {
   "cell_type": "code",
   "execution_count": 11,
   "id": "fc3dbdd1",
   "metadata": {
    "execution": {
     "iopub.execute_input": "2024-02-29T14:14:43.784559Z",
     "iopub.status.busy": "2024-02-29T14:14:43.784159Z",
     "iopub.status.idle": "2024-02-29T14:14:43.795568Z",
     "shell.execute_reply": "2024-02-29T14:14:43.794573Z"
    },
    "papermill": {
     "duration": 0.033596,
     "end_time": "2024-02-29T14:14:43.797765",
     "exception": false,
     "start_time": "2024-02-29T14:14:43.764169",
     "status": "completed"
    },
    "tags": []
   },
   "outputs": [
    {
     "name": "stdout",
     "output_type": "stream",
     "text": [
      "Percentage of Pclass = 1 who survived: 62.96296296296296\n",
      "Percentage of Pclass = 2 who survived: 47.28260869565217\n",
      "Percentage of Pclass = 3 who survived: 24.236252545824847\n"
     ]
    }
   ],
   "source": [
    "#print percentage of people by Pclass that survived\n",
    "print(\"Percentage of Pclass = 1 who survived:\", df_train[\"Survived\"][df_train[\"Pclass\"] == 1].value_counts(normalize = True)[1]*100)\n",
    "\n",
    "print(\"Percentage of Pclass = 2 who survived:\", df_train[\"Survived\"][df_train[\"Pclass\"] == 2].value_counts(normalize = True)[1]*100)\n",
    "\n",
    "print(\"Percentage of Pclass = 3 who survived:\", df_train[\"Survived\"][df_train[\"Pclass\"] == 3].value_counts(normalize = True)[1]*100)"
   ]
  },
  {
   "cell_type": "code",
   "execution_count": 12,
   "id": "33f0ae3b",
   "metadata": {
    "execution": {
     "iopub.execute_input": "2024-02-29T14:14:43.836605Z",
     "iopub.status.busy": "2024-02-29T14:14:43.835985Z",
     "iopub.status.idle": "2024-02-29T14:14:44.138538Z",
     "shell.execute_reply": "2024-02-29T14:14:44.137465Z"
    },
    "papermill": {
     "duration": 0.324625,
     "end_time": "2024-02-29T14:14:44.140943",
     "exception": false,
     "start_time": "2024-02-29T14:14:43.816318",
     "status": "completed"
    },
    "tags": []
   },
   "outputs": [
    {
     "data": {
      "text/plain": [
       "<Axes: xlabel='Survived', ylabel='count'>"
      ]
     },
     "execution_count": 12,
     "metadata": {},
     "output_type": "execute_result"
    },
    {
     "data": {
      "image/png": "[encoded data removed]",
      "text/plain": [
       "<Figure size 640x480 with 1 Axes>"
      ]
     },
     "metadata": {},
     "output_type": "display_data"
    }
   ],
   "source": [
    "# plot of Survived grouped by pclass\n",
    "sns.countplot(data=df_train, x='Survived', hue='Pclass')\n"
   ]
  },
  {
   "cell_type": "markdown",
   "id": "b7afb0c1",
   "metadata": {
    "papermill": {
     "duration": 0.020436,
     "end_time": "2024-02-29T14:14:44.180594",
     "exception": false,
     "start_time": "2024-02-29T14:14:44.160158",
     "status": "completed"
    },
    "tags": []
   },
   "source": [
    "## ***4.3 : Sex***"
   ]
  },
  {
   "cell_type": "code",
   "execution_count": 13,
   "id": "e27f5bb9",
   "metadata": {
    "execution": {
     "iopub.execute_input": "2024-02-29T14:14:44.220784Z",
     "iopub.status.busy": "2024-02-29T14:14:44.220116Z",
     "iopub.status.idle": "2024-02-29T14:14:44.513828Z",
     "shell.execute_reply": "2024-02-29T14:14:44.511869Z"
    },
    "papermill": {
     "duration": 0.316511,
     "end_time": "2024-02-29T14:14:44.516219",
     "exception": false,
     "start_time": "2024-02-29T14:14:44.199708",
     "status": "completed"
    },
    "tags": []
   },
   "outputs": [
    {
     "name": "stdout",
     "output_type": "stream",
     "text": [
      "Count of females who survived: 233\n",
      "Count of females who did not survive: 81\n",
      "--------------------------------------------\n",
      "Count of males who survived: 109\n",
      "Count of males who did not survive: 468\n"
     ]
    },
    {
     "data": {
      "image/png": "[encoded data removed]",
      "text/plain": [
       "<Figure size 1000x500 with 2 Axes>"
      ]
     },
     "metadata": {},
     "output_type": "display_data"
    }
   ],
   "source": [
    "# Count of females who survived and did not survive\n",
    "female_survived_count = df_train[(df_train['Sex'] == 'female') & (df_train['Survived'] == 1)].shape[0]\n",
    "female_not_survived_count = df_train[(df_train['Sex'] == 'female') & (df_train['Survived'] == 0)].shape[0]\n",
    "\n",
    "# Count of males who survived and did not survive\n",
    "male_survived_count = df_train[(df_train['Sex'] == 'male') & (df_train['Survived'] == 1)].shape[0]\n",
    "male_not_survived_count = df_train[(df_train['Sex'] == 'male') & (df_train['Survived'] == 0)].shape[0]\n",
    "\n",
    "print(\"Count of females who survived:\", female_survived_count)\n",
    "print(\"Count of females who did not survive:\", female_not_survived_count)\n",
    "print(\"--------------------------------------------\")\n",
    "print(\"Count of males who survived:\", male_survived_count)\n",
    "print(\"Count of males who did not survive:\", male_not_survived_count)\n",
    "\n",
    "# plot\n",
    "plt.figure(figsize=(10, 5))\n",
    "plt.subplot(1, 2, 1)\n",
    "labels = ['Survived', 'Not Survived']\n",
    "sizes = [female_survived_count, female_not_survived_count]\n",
    "plt.pie(sizes, labels=labels, autopct='%1.1f%%')\n",
    "plt.title('Females')\n",
    "\n",
    "# Pie plot for males\n",
    "plt.subplot(1, 2, 2)\n",
    "sizes = [male_survived_count, male_not_survived_count]\n",
    "plt.pie(sizes, labels=labels, autopct='%1.1f%%')\n",
    "plt.title('Males')\n",
    "\n",
    "plt.tight_layout()\n",
    "plt.show()"
   ]
  },
  {
   "cell_type": "markdown",
   "id": "99d291fa",
   "metadata": {
    "papermill": {
     "duration": 0.019592,
     "end_time": "2024-02-29T14:14:44.556459",
     "exception": false,
     "start_time": "2024-02-29T14:14:44.536867",
     "status": "completed"
    },
    "tags": []
   },
   "source": [
    ">*  Female survived `74.2%` and male `18.9%`\n",
    ">*  Female non survived `25.8%` and male `81.9%`"
   ]
  },
  {
   "cell_type": "markdown",
   "id": "8b9dc5ec",
   "metadata": {
    "papermill": {
     "duration": 0.020099,
     "end_time": "2024-02-29T14:14:44.596839",
     "exception": false,
     "start_time": "2024-02-29T14:14:44.576740",
     "status": "completed"
    },
    "tags": []
   },
   "source": [
    "## ***4.4 : Age***"
   ]
  },
  {
   "cell_type": "code",
   "execution_count": 14,
   "id": "e1dc722a",
   "metadata": {
    "execution": {
     "iopub.execute_input": "2024-02-29T14:14:44.638757Z",
     "iopub.status.busy": "2024-02-29T14:14:44.638023Z",
     "iopub.status.idle": "2024-02-29T14:14:44.836892Z",
     "shell.execute_reply": "2024-02-29T14:14:44.835617Z"
    },
    "papermill": {
     "duration": 0.223942,
     "end_time": "2024-02-29T14:14:44.840843",
     "exception": false,
     "start_time": "2024-02-29T14:14:44.616901",
     "status": "completed"
    },
    "tags": []
   },
   "outputs": [
    {
     "data": {
      "image/png": "[encoded data removed]",
      "text/plain": [
       "<Figure size 800x800 with 1 Axes>"
      ]
     },
     "metadata": {},
     "output_type": "display_data"
    }
   ],
   "source": [
    "import matplotlib.pyplot as plt\n",
    "import pandas as pd\n",
    "\n",
    "# Assuming df_train contains the necessary data\n",
    "\n",
    "# Define age groups\n",
    "age_bins = [0, 10, 20, 30, 40, 50, 60, 70, 80]\n",
    "age_labels = ['Infants', 'Toddlers', 'Kids', 'Teens', 'Youngs', 'Middle Aged', 'Old', 'Unknown']  # Add 'Unknown' for values outside the defined bins\n",
    "# Categorize ages into groups\n",
    "df_train['AgeGroup'] = pd.cut(df_train['Age'], bins=age_bins, labels=age_labels)\n",
    "\n",
    "# Count survivors in each age group\n",
    "survivors_by_age_group = df_train[df_train['Survived'] == 1]['AgeGroup'].value_counts()\n",
    "# test data\n",
    "# Define age groups\n",
    "age_bins = [0, 10, 20, 30, 40, 50, 60, 70, 80]\n",
    "age_labels = ['Infants', 'Toddlers', 'Kids', 'Teens', 'Youngs', 'Middle Aged', 'Old', 'Unknown']  # Add 'Unknown' for values outside the defined bins\n",
    "# Categorize ages into groups\n",
    "df_test['AgeGroup'] = pd.cut(df_test['Age'], bins=age_bins, labels=age_labels)\n",
    "\n",
    "# Count survivors in each age group\n",
    "survivors_by_age_group = df_train[df_train['Survived'] == 1]['AgeGroup'].value_counts()\n",
    "\n",
    "# Plot\n",
    "plt.figure(figsize=(8, 8))\n",
    "plt.pie(survivors_by_age_group, labels=survivors_by_age_group.index, autopct='%1.1f%%', startangle=140)\n",
    "plt.title('Survival Based on Age Groups')\n",
    "plt.axis('equal')  # Equal aspect ratio ensures that pie is drawn as a circle.\n",
    "plt.show()\n"
   ]
  },
  {
   "cell_type": "markdown",
   "id": "9d8ef05e",
   "metadata": {
    "papermill": {
     "duration": 0.022418,
     "end_time": "2024-02-29T14:14:44.899267",
     "exception": false,
     "start_time": "2024-02-29T14:14:44.876849",
     "status": "completed"
    },
    "tags": []
   },
   "source": [
    "## ***4.5 : SibSp***"
   ]
  },
  {
   "cell_type": "code",
   "execution_count": 15,
   "id": "d831d046",
   "metadata": {
    "execution": {
     "iopub.execute_input": "2024-02-29T14:14:44.943021Z",
     "iopub.status.busy": "2024-02-29T14:14:44.942607Z",
     "iopub.status.idle": "2024-02-29T14:14:44.950068Z",
     "shell.execute_reply": "2024-02-29T14:14:44.949303Z"
    },
    "papermill": {
     "duration": 0.031883,
     "end_time": "2024-02-29T14:14:44.952020",
     "exception": false,
     "start_time": "2024-02-29T14:14:44.920137",
     "status": "completed"
    },
    "tags": []
   },
   "outputs": [
    {
     "data": {
      "text/plain": [
       "SibSp\n",
       "0    608\n",
       "1    209\n",
       "2     28\n",
       "4     18\n",
       "3     16\n",
       "8      7\n",
       "5      5\n",
       "Name: count, dtype: int64"
      ]
     },
     "execution_count": 15,
     "metadata": {},
     "output_type": "execute_result"
    }
   ],
   "source": [
    "df_train['SibSp'].value_counts()"
   ]
  },
  {
   "cell_type": "code",
   "execution_count": 16,
   "id": "00f2d79a",
   "metadata": {
    "execution": {
     "iopub.execute_input": "2024-02-29T14:14:44.997480Z",
     "iopub.status.busy": "2024-02-29T14:14:44.997060Z",
     "iopub.status.idle": "2024-02-29T14:14:45.393593Z",
     "shell.execute_reply": "2024-02-29T14:14:45.392504Z"
    },
    "papermill": {
     "duration": 0.422689,
     "end_time": "2024-02-29T14:14:45.395988",
     "exception": false,
     "start_time": "2024-02-29T14:14:44.973299",
     "status": "completed"
    },
    "tags": []
   },
   "outputs": [
    {
     "name": "stdout",
     "output_type": "stream",
     "text": [
      "Percentage of SibSp = 0 who survived: 34.53947368421053\n",
      "Percentage of SibSp = 1 who survived: 53.588516746411486\n",
      "Percentage of SibSp = 2 who survived: 46.42857142857143\n",
      "Percentage of SibSp = 3 who survived: 25.0\n",
      "Percentage of SibSp = 4 who survived: 16.666666666666664\n"
     ]
    },
    {
     "data": {
      "image/png": "[encoded data removed]",
      "text/plain": [
       "<Figure size 640x480 with 1 Axes>"
      ]
     },
     "metadata": {},
     "output_type": "display_data"
    }
   ],
   "source": [
    "#draw a bar plot for SibSp vs. survival\n",
    "sns.barplot(x=\"SibSp\", y=\"Survived\", data=df_train)\n",
    "\n",
    "#I won't be printing individual percent values for all of these.\n",
    "print(\"Percentage of SibSp = 0 who survived:\", df_train[\"Survived\"][df_train[\"SibSp\"] == 0].value_counts(normalize = True)[1]*100)\n",
    "\n",
    "print(\"Percentage of SibSp = 1 who survived:\", df_train[\"Survived\"][df_train[\"SibSp\"] == 1].value_counts(normalize = True)[1]*100)\n",
    "\n",
    "print(\"Percentage of SibSp = 2 who survived:\", df_train[\"Survived\"][df_train[\"SibSp\"] == 2].value_counts(normalize = True)[1]*100)\n",
    "\n",
    "print(\"Percentage of SibSp = 3 who survived:\", df_train[\"Survived\"][df_train[\"SibSp\"] == 3].value_counts(normalize = True)[1]*100)\n",
    "\n",
    "print(\"Percentage of SibSp = 4 who survived:\", df_train[\"Survived\"][df_train[\"SibSp\"] == 4].value_counts(normalize = True)[1]*100)\n"
   ]
  },
  {
   "cell_type": "markdown",
   "id": "ceb9e75f",
   "metadata": {
    "papermill": {
     "duration": 0.021554,
     "end_time": "2024-02-29T14:14:45.439447",
     "exception": false,
     "start_time": "2024-02-29T14:14:45.417893",
     "status": "completed"
    },
    "tags": []
   },
   "source": [
    ">* It's clear that people with more siblings or spouses aboard were less likely to survive."
   ]
  },
  {
   "cell_type": "markdown",
   "id": "9fed2a35",
   "metadata": {
    "papermill": {
     "duration": 0.025941,
     "end_time": "2024-02-29T14:14:45.489920",
     "exception": false,
     "start_time": "2024-02-29T14:14:45.463979",
     "status": "completed"
    },
    "tags": []
   },
   "source": [
    "## ***4.6 : Embarked***"
   ]
  },
  {
   "cell_type": "code",
   "execution_count": 17,
   "id": "b1e3a695",
   "metadata": {
    "execution": {
     "iopub.execute_input": "2024-02-29T14:14:45.542382Z",
     "iopub.status.busy": "2024-02-29T14:14:45.541335Z",
     "iopub.status.idle": "2024-02-29T14:14:45.801742Z",
     "shell.execute_reply": "2024-02-29T14:14:45.800494Z"
    },
    "papermill": {
     "duration": 0.286147,
     "end_time": "2024-02-29T14:14:45.804670",
     "exception": false,
     "start_time": "2024-02-29T14:14:45.518523",
     "status": "completed"
    },
    "tags": []
   },
   "outputs": [
    {
     "data": {
      "text/plain": [
       "<Figure size 800x600 with 0 Axes>"
      ]
     },
     "metadata": {},
     "output_type": "display_data"
    },
    {
     "data": {
      "image/png": "[encoded data removed]",
      "text/plain": [
       "<Figure size 640x480 with 1 Axes>"
      ]
     },
     "metadata": {},
     "output_type": "display_data"
    }
   ],
   "source": [
    "# Grouping data by 'Embarked' and 'Survived', and calculating the count of passengers\n",
    "survivors_by_embarked = df_train.groupby(['Embarked', 'Survived']).size().unstack()\n",
    "\n",
    "# Plot\n",
    "plt.figure(figsize=(8, 6))\n",
    "survivors_by_embarked.plot(kind='bar', stacked=True, color=['red', 'green'])\n",
    "plt.title('Survival Based on Embarked Port')\n",
    "plt.xlabel('Embarked Port')\n",
    "plt.ylabel('Count')\n",
    "plt.xticks(rotation=0)\n",
    "plt.legend(['Did not survive', 'Survived'], loc='upper left')\n",
    "plt.show()"
   ]
  },
  {
   "cell_type": "code",
   "execution_count": 18,
   "id": "5715bb86",
   "metadata": {
    "execution": {
     "iopub.execute_input": "2024-02-29T14:14:45.856250Z",
     "iopub.status.busy": "2024-02-29T14:14:45.855900Z",
     "iopub.status.idle": "2024-02-29T14:14:45.866397Z",
     "shell.execute_reply": "2024-02-29T14:14:45.865205Z"
    },
    "papermill": {
     "duration": 0.037185,
     "end_time": "2024-02-29T14:14:45.869573",
     "exception": false,
     "start_time": "2024-02-29T14:14:45.832388",
     "status": "completed"
    },
    "tags": []
   },
   "outputs": [
    {
     "name": "stdout",
     "output_type": "stream",
     "text": [
      "Survived based on embarked port:\n",
      "Embarked\n",
      "S    217\n",
      "C     93\n",
      "Q     30\n",
      "Name: count, dtype: int64\n",
      "-------------------------------------\n",
      "Non-survival based on embarked port:\n",
      "Embarked\n",
      "S    427\n",
      "C     75\n",
      "Q     47\n",
      "Name: count, dtype: int64\n"
     ]
    }
   ],
   "source": [
    "# Assuming df_train contains the necessary data\n",
    "\n",
    "# Count survivors based on embarked port\n",
    "survived_by_embarked = df_train[df_train['Survived'] == 1]['Embarked'].value_counts()\n",
    "\n",
    "print(\"Survived based on embarked port:\")\n",
    "print(survived_by_embarked)\n",
    "print(\"-------------------------------------\")\n",
    "# Count non-survivors based on embarked port\n",
    "non_survived_by_embarked = df_train[df_train['Survived'] == 0]['Embarked'].value_counts()\n",
    "\n",
    "print(\"Non-survival based on embarked port:\")\n",
    "print(non_survived_by_embarked)\n"
   ]
  },
  {
   "cell_type": "markdown",
   "id": "a7c8fa98",
   "metadata": {
    "papermill": {
     "duration": 0.022631,
     "end_time": "2024-02-29T14:14:45.916536",
     "exception": false,
     "start_time": "2024-02-29T14:14:45.893905",
     "status": "completed"
    },
    "tags": []
   },
   "source": [
    ">* Mostly people survived of `S = Southampton`\n",
    ">* MOstly people non survived also `S = Southampton`"
   ]
  },
  {
   "cell_type": "markdown",
   "id": "211642de",
   "metadata": {
    "papermill": {
     "duration": 0.022061,
     "end_time": "2024-02-29T14:14:45.960864",
     "exception": false,
     "start_time": "2024-02-29T14:14:45.938803",
     "status": "completed"
    },
    "tags": []
   },
   "source": [
    "## ***4.7 : Fare***"
   ]
  },
  {
   "cell_type": "code",
   "execution_count": 19,
   "id": "cc3c885b",
   "metadata": {
    "execution": {
     "iopub.execute_input": "2024-02-29T14:14:46.008093Z",
     "iopub.status.busy": "2024-02-29T14:14:46.007318Z",
     "iopub.status.idle": "2024-02-29T14:14:47.964721Z",
     "shell.execute_reply": "2024-02-29T14:14:47.963614Z"
    },
    "papermill": {
     "duration": 1.983716,
     "end_time": "2024-02-29T14:14:47.967124",
     "exception": false,
     "start_time": "2024-02-29T14:14:45.983408",
     "status": "completed"
    },
    "tags": []
   },
   "outputs": [
    {
     "data": {
      "text/html": [
       "        <script type=\"text/javascript\">\n",
       "        window.PlotlyConfig = {MathJaxConfig: 'local'};\n",
       "        if (window.MathJax && window.MathJax.Hub && window.MathJax.Hub.Config) {window.MathJax.Hub.Config({SVG: {font: \"STIX-Web\"}});}\n",
       "        if (typeof require !== 'undefined') {\n",
       "        require.undef(\"plotly\");\n",
       "        requirejs.config({\n",
       "            paths: {\n",
       "                'plotly': ['https://cdn.plot.ly/plotly-2.27.0.min']\n",
       "            }\n",
       "        });\n",
       "        require(['plotly'], function(Plotly) {\n",
       "            window._Plotly = Plotly;\n",
       "        });\n",
       "        }\n",
       "        </script>\n",
       "        "
      ]
     },
     "metadata": {},
     "output_type": "display_data"
    },
    {
     "data": {
      "text/html": [
       "<div>                            <div id=\"c3d9c0b9-4448-415a-8ec4-87a5c6a63cbf\" class=\"plotly-graph-div\" style=\"height:525px; width:100%;\"></div>            <script type=\"text/javascript\">                require([\"plotly\"], function(Plotly) {                    window.PLOTLYENV=window.PLOTLYENV || {};                                    if (document.getElementById(\"c3d9c0b9-4448-415a-8ec4-87a5c6a63cbf\")) {                    Plotly.newPlot(                        \"c3d9c0b9-4448-415a-8ec4-87a5c6a63cbf\",                        [{\"hovertemplate\":\"Age=%{x}\\u003cbr\\u003eFare=%{y}\\u003cbr\\u003eSurvived=%{marker.color}\\u003cextra\\u003e\\u003c\\u002fextra\\u003e\",\"legendgroup\":\"\",\"marker\":{\"color\":[0,1,1,1,0,0,0,0,1,1,1,1,0,0,0,1,0,1,0,1,0,1,1,1,0,1,0,0,1,0,0,1,1,0,0,0,1,0,0,1,0,0,0,1,1,0,0,1,0,0,0,0,1,1,0,1,1,0,1,0,0,1,0,0,0,1,1,0,1,0,0,0,0,0,1,0,0,0,1,1,0,1,1,0,1,1,0,0,1,0,0,0,0,0,0,0,0,1,1,0,0,0,0,0,0,0,1,1,0,1,0,0,0,0,0,0,0,0,0,0,0,0,0,1,0,1,0,1,1,0,0,0,0,1,0,0,1,0,0,0,0,1,1,0,0,0,1,0,0,0,0,1,0,0,0,0,1,0,0,0,0,1,0,0,0,1,1,0,0,0,0,0,1,0,0,0,0,0,0,0,0,0,0,1,1,0,1,1,0,0,1,0,1,1,1,1,0,0,1,0,0,0,0,0,1,0,0,1,1,1,0,1,0,0,0,1,1,0,1,0,1,0,0,0,1,0,1,0,0,0,1,0,0,1,0,0,0,1,0,0,0,1,0,0,0,0,0,1,1,0,0,0,0,0,0,1,1,1,1,1,0,1,0,0,0,0,0,1,1,1,0,1,1,0,1,1,0,0,0,1,0,0,0,1,0,0,1,0,1,1,1,1,0,0,0,0,0,0,1,1,1,1,0,1,0,1,1,1,0,1,1,1,0,0,0,1,1,0,1,1,0,0,1,1,0,1,0,1,1,1,1,0,0,0,1,0,0,1,1,0,1,1,0,0,0,1,1,1,1,0,0,0,0,0,0,0,1,0,1,1,0,0,0,0,0,0,1,1,1,1,1,0,0,0,0,1,1,0,0,0,1,1,0,1,0,0,0,1,0,1,1,1,0,1,1,0,0,0,0,1,1,0,0,0,0,0,0,1,0,0,0,0,1,0,1,0,1,1,0,0,0,0,0,0,0,0,1,1,0,1,1,1,1,0,0,1,0,1,0,0,1,0,0,1,1,1,1,1,1,1,0,0,0,1,0,1,0,1,1,0,1,0,0,0,0,0,0,0,0,1,0,0,1,1,0,0,0,0,0,1,0,0,0,1,1,0,1,0,0,1,0,0,0,0,0,0,1,0,0,0,0,0,0,0,1,0,1,1,0,1,1,0,1,1,0,0,1,0,1,0,1,0,0,1,0,0,1,0,0,0,1,0,0,1,0,1,0,1,0,1,1,0,0,1,0,0,1,1,0,1,1,0,0,1,1,0,1,0,1,1,0,0,0,0,0,0,0,0,0,1,1,1,1,1,0,0,1,1,0,1,1,1,0,0,0,1,0,1,0,0,0,1,0,0,0,0,1,0,0,1,1,0,0,0,1,0,0,1,1,1,0,0,1,0,0,1,0,0,1,0,0,1,1,0,0,0,0,1,0,0,1,0,1,0,0,1,0,0,0,0,0,1,0,1,1,1,0,1,0,1,0,1,0,1,0,0,0,0,0,0,1,0,0,0,1,0,0,0,0,1,1,0,0,1,0,0,0,1,0,1,0,1,0,0,0,0,0,0,0,1,1,1,1,0,0,0,0,1,0,0,1,1,0,0,0,0,1,1,1,1,1,0,1,0,0,0,1,1,0,0,1,0,0,0,1,0,1,1,0,0,1,0,0,0,0,0,0,1,0,0,1,0,1,0,1,0,0,1,0,0,1,1,0,0,1,1,0,0,0,1,0,0,1,1,0,1,0,0,0,0,0,0,0,0,1,0,0,1,0,1,1,1,0,0,0,0,1,0,1,0,0,0,0,0,0,0,1,1,0,0,0,1,1,1,1,0,0,0,0,1,0,0,0,0,0,0,0,0,0,0,1,1,0,1,0,0,0,1,1,1,1,1,0,0,0,1,0,0,1,1,0,0,1,0,0,0,0,0,0,1,0,0,0,1,0,1,1,1,1,0,0,0,1,0,0,1,1,0,0,1,0,1,0,0,1,1,0,0,0,1,1,0,0,0,0,0,0,1,0,1,0],\"coloraxis\":\"coloraxis\",\"symbol\":\"circle\"},\"mode\":\"markers\",\"name\":\"\",\"orientation\":\"v\",\"showlegend\":false,\"x\":[22.0,38.0,26.0,35.0,35.0,null,54.0,2.0,27.0,14.0,4.0,58.0,20.0,39.0,14.0,55.0,2.0,null,31.0,null,35.0,34.0,15.0,28.0,8.0,38.0,null,19.0,null,null,40.0,null,null,66.0,28.0,42.0,null,21.0,18.0,14.0,40.0,27.0,null,3.0,19.0,null,null,null,null,18.0,7.0,21.0,49.0,29.0,65.0,null,21.0,28.5,5.0,11.0,22.0,38.0,45.0,4.0,null,null,29.0,19.0,17.0,26.0,32.0,16.0,21.0,26.0,32.0,25.0,null,null,0.83,30.0,22.0,29.0,null,28.0,17.0,33.0,16.0,null,23.0,24.0,29.0,20.0,46.0,26.0,59.0,null,71.0,23.0,34.0,34.0,28.0,null,21.0,33.0,37.0,28.0,21.0,null,38.0,null,47.0,14.5,22.0,20.0,17.0,21.0,70.5,29.0,24.0,2.0,21.0,null,32.5,32.5,54.0,12.0,null,24.0,null,45.0,33.0,20.0,47.0,29.0,25.0,23.0,19.0,37.0,16.0,24.0,null,22.0,24.0,19.0,18.0,19.0,27.0,9.0,36.5,42.0,51.0,22.0,55.5,40.5,null,51.0,16.0,30.0,null,null,44.0,40.0,26.0,17.0,1.0,9.0,null,45.0,null,28.0,61.0,4.0,1.0,21.0,56.0,18.0,null,50.0,30.0,36.0,null,null,9.0,1.0,4.0,null,null,45.0,40.0,36.0,32.0,19.0,19.0,3.0,44.0,58.0,null,42.0,null,24.0,28.0,null,34.0,45.5,18.0,2.0,32.0,26.0,16.0,40.0,24.0,35.0,22.0,30.0,null,31.0,27.0,42.0,32.0,30.0,16.0,27.0,51.0,null,38.0,22.0,19.0,20.5,18.0,null,35.0,29.0,59.0,5.0,24.0,null,44.0,8.0,19.0,33.0,null,null,29.0,22.0,30.0,44.0,25.0,24.0,37.0,54.0,null,29.0,62.0,30.0,41.0,29.0,null,30.0,35.0,50.0,null,3.0,52.0,40.0,null,36.0,16.0,25.0,58.0,35.0,null,25.0,41.0,37.0,null,63.0,45.0,null,7.0,35.0,65.0,28.0,16.0,19.0,null,33.0,30.0,22.0,42.0,22.0,26.0,19.0,36.0,24.0,24.0,null,23.5,2.0,null,50.0,null,null,19.0,null,null,0.92,null,17.0,30.0,30.0,24.0,18.0,26.0,28.0,43.0,26.0,24.0,54.0,31.0,40.0,22.0,27.0,30.0,22.0,null,36.0,61.0,36.0,31.0,16.0,null,45.5,38.0,16.0,null,null,29.0,41.0,45.0,45.0,2.0,24.0,28.0,25.0,36.0,24.0,40.0,null,3.0,42.0,23.0,null,15.0,25.0,null,28.0,22.0,38.0,null,null,40.0,29.0,45.0,35.0,null,30.0,60.0,null,null,24.0,25.0,18.0,19.0,22.0,3.0,null,22.0,27.0,20.0,19.0,42.0,1.0,32.0,35.0,null,18.0,1.0,36.0,null,17.0,36.0,21.0,28.0,23.0,24.0,22.0,31.0,46.0,23.0,28.0,39.0,26.0,21.0,28.0,20.0,34.0,51.0,3.0,21.0,null,null,null,33.0,null,44.0,null,34.0,18.0,30.0,10.0,null,21.0,29.0,28.0,18.0,null,28.0,19.0,null,32.0,28.0,null,42.0,17.0,50.0,14.0,21.0,24.0,64.0,31.0,45.0,20.0,25.0,28.0,null,4.0,13.0,34.0,5.0,52.0,36.0,null,30.0,49.0,null,29.0,65.0,null,50.0,null,48.0,34.0,47.0,48.0,null,38.0,null,56.0,null,0.75,null,38.0,33.0,23.0,22.0,null,34.0,29.0,22.0,2.0,9.0,null,50.0,63.0,25.0,null,35.0,58.0,30.0,9.0,null,21.0,55.0,71.0,21.0,null,54.0,null,25.0,24.0,17.0,21.0,null,37.0,16.0,18.0,33.0,null,28.0,26.0,29.0,null,36.0,54.0,24.0,47.0,34.0,null,36.0,32.0,30.0,22.0,null,44.0,null,40.5,50.0,null,39.0,23.0,2.0,null,17.0,null,30.0,7.0,45.0,30.0,null,22.0,36.0,9.0,11.0,32.0,50.0,64.0,19.0,null,33.0,8.0,17.0,27.0,null,22.0,22.0,62.0,48.0,null,39.0,36.0,null,40.0,28.0,null,null,24.0,19.0,29.0,null,32.0,62.0,53.0,36.0,null,16.0,19.0,34.0,39.0,null,32.0,25.0,39.0,54.0,36.0,null,18.0,47.0,60.0,22.0,null,35.0,52.0,47.0,null,37.0,36.0,null,49.0,null,49.0,24.0,null,null,44.0,35.0,36.0,30.0,27.0,22.0,40.0,39.0,null,null,null,35.0,24.0,34.0,26.0,4.0,26.0,27.0,42.0,20.0,21.0,21.0,61.0,57.0,21.0,26.0,null,80.0,51.0,32.0,null,9.0,28.0,32.0,31.0,41.0,null,20.0,24.0,2.0,null,0.75,48.0,19.0,56.0,null,23.0,null,18.0,21.0,null,18.0,24.0,null,32.0,23.0,58.0,50.0,40.0,47.0,36.0,20.0,32.0,25.0,null,43.0,null,40.0,31.0,70.0,31.0,null,18.0,24.5,18.0,43.0,36.0,null,27.0,20.0,14.0,60.0,25.0,14.0,19.0,18.0,15.0,31.0,4.0,null,25.0,60.0,52.0,44.0,null,49.0,42.0,18.0,35.0,18.0,25.0,26.0,39.0,45.0,42.0,22.0,null,24.0,null,48.0,29.0,52.0,19.0,38.0,27.0,null,33.0,6.0,17.0,34.0,50.0,27.0,20.0,30.0,null,25.0,25.0,29.0,11.0,null,23.0,23.0,28.5,48.0,35.0,null,null,null,36.0,21.0,24.0,31.0,70.0,16.0,30.0,19.0,31.0,4.0,6.0,33.0,23.0,48.0,0.67,28.0,18.0,34.0,33.0,null,41.0,20.0,36.0,16.0,51.0,null,30.5,null,32.0,24.0,48.0,57.0,null,54.0,18.0,null,5.0,null,43.0,13.0,17.0,29.0,null,25.0,25.0,18.0,8.0,1.0,46.0,null,16.0,null,null,25.0,39.0,49.0,31.0,30.0,30.0,34.0,31.0,11.0,0.42,27.0,31.0,39.0,18.0,39.0,33.0,26.0,39.0,35.0,6.0,30.5,null,23.0,31.0,43.0,10.0,52.0,27.0,38.0,27.0,2.0,null,null,1.0,null,62.0,15.0,0.83,null,23.0,18.0,39.0,21.0,null,32.0,null,20.0,16.0,30.0,34.5,17.0,42.0,null,35.0,28.0,null,4.0,74.0,9.0,16.0,44.0,18.0,45.0,51.0,24.0,null,41.0,21.0,48.0,null,24.0,42.0,27.0,31.0,null,4.0,26.0,47.0,33.0,47.0,28.0,15.0,20.0,19.0,null,56.0,25.0,33.0,22.0,28.0,25.0,39.0,27.0,19.0,null,26.0,32.0],\"xaxis\":\"x\",\"y\":[7.25,71.2833,7.925,53.1,8.05,8.4583,51.8625,21.075,11.1333,30.0708,16.7,26.55,8.05,31.275,7.8542,16.0,29.125,13.0,18.0,7.225,26.0,13.0,8.0292,35.5,21.075,31.3875,7.225,263.0,7.8792,7.8958,27.7208,146.5208,7.75,10.5,82.1708,52.0,7.2292,8.05,18.0,11.2417,9.475,21.0,7.8958,41.5792,7.8792,8.05,15.5,7.75,21.6792,17.8,39.6875,7.8,76.7292,26.0,61.9792,35.5,10.5,7.2292,27.75,46.9,7.2292,80.0,83.475,27.9,27.7208,15.2458,10.5,8.1583,7.925,8.6625,10.5,46.9,73.5,14.4542,56.4958,7.65,7.8958,8.05,29.0,12.475,9.0,9.5,7.7875,47.1,10.5,15.85,34.375,8.05,263.0,8.05,8.05,7.8542,61.175,20.575,7.25,8.05,34.6542,63.3583,23.0,26.0,7.8958,7.8958,77.2875,8.6542,7.925,7.8958,7.65,7.775,7.8958,24.15,52.0,14.4542,8.05,9.825,14.4583,7.925,7.75,21.0,247.5208,31.275,73.5,8.05,30.0708,13.0,77.2875,11.2417,7.75,7.1417,22.3583,6.975,7.8958,7.05,14.5,26.0,13.0,15.0458,26.2833,53.1,9.2167,79.2,15.2458,7.75,15.85,6.75,11.5,36.75,7.7958,34.375,26.0,13.0,12.525,66.6,8.05,14.5,7.3125,61.3792,7.7333,8.05,8.6625,69.55,16.1,15.75,7.775,8.6625,39.6875,20.525,55.0,27.9,25.925,56.4958,33.5,29.125,11.1333,7.925,30.6958,7.8542,25.4667,28.7125,13.0,0.0,69.55,15.05,31.3875,39.0,22.025,50.0,15.5,26.55,15.5,7.8958,13.0,13.0,7.8542,26.0,27.7208,146.5208,7.75,8.4042,7.75,13.0,9.5,69.55,6.4958,7.225,8.05,10.4625,15.85,18.7875,7.75,31.0,7.05,21.0,7.25,13.0,7.75,113.275,7.925,27.0,76.2917,10.5,8.05,13.0,8.05,7.8958,90.0,9.35,10.5,7.25,13.0,25.4667,83.475,7.775,13.5,31.3875,10.5,7.55,26.0,26.25,10.5,12.275,14.4542,15.5,10.5,7.125,7.225,90.0,7.775,14.5,52.5542,26.0,7.25,10.4625,26.55,16.1,20.2125,15.2458,79.2,86.5,512.3292,26.0,7.75,31.3875,79.65,0.0,7.75,10.5,39.6875,7.775,153.4625,135.6333,31.0,0.0,19.5,29.7,7.75,77.9583,7.75,0.0,29.125,20.25,7.75,7.8542,9.5,8.05,26.0,8.6625,9.5,7.8958,13.0,7.75,78.85,91.0792,12.875,8.85,7.8958,27.7208,7.2292,151.55,30.5,247.5208,7.75,23.25,0.0,12.35,8.05,151.55,110.8833,108.9,24.0,56.9292,83.1583,262.375,26.0,7.8958,26.25,7.8542,26.0,14.0,164.8667,134.5,7.25,7.8958,12.35,29.0,69.55,135.6333,6.2375,13.0,20.525,57.9792,23.25,28.5,153.4625,18.0,133.65,7.8958,66.6,134.5,8.05,35.5,26.0,263.0,13.0,13.0,13.0,13.0,13.0,16.1,15.9,8.6625,9.225,35.0,7.2292,17.8,7.225,9.5,55.0,13.0,7.8792,7.8792,27.9,27.7208,14.4542,7.05,15.5,7.25,75.25,7.2292,7.75,69.3,55.4417,6.4958,8.05,135.6333,21.075,82.1708,7.25,211.5,4.0125,7.775,227.525,15.7417,7.925,52.0,7.8958,73.5,46.9,13.0,7.7292,12.0,120.0,7.7958,7.925,113.275,16.7,7.7958,7.8542,26.0,10.5,12.65,7.925,8.05,9.825,15.85,8.6625,21.0,7.75,18.75,7.775,25.4667,7.8958,6.8583,90.0,0.0,7.925,8.05,32.5,13.0,13.0,24.15,7.8958,7.7333,7.875,14.4,20.2125,7.25,26.0,26.0,7.75,8.05,26.55,16.1,26.0,7.125,55.9,120.0,34.375,18.75,263.0,10.5,26.25,9.5,7.775,13.0,8.1125,81.8583,19.5,26.55,19.2583,30.5,27.75,19.9667,27.75,89.1042,8.05,7.8958,26.55,51.8625,10.5,7.75,26.55,8.05,38.5,13.0,8.05,7.05,0.0,26.55,7.725,19.2583,7.25,8.6625,27.75,13.7917,9.8375,52.0,21.0,7.0458,7.5208,12.2875,46.9,0.0,8.05,9.5875,91.0792,25.4667,90.0,29.7,8.05,15.9,19.9667,7.25,30.5,49.5042,8.05,14.4583,78.2667,15.1,151.55,7.7958,8.6625,7.75,7.6292,9.5875,86.5,108.9,26.0,26.55,22.525,56.4958,7.75,8.05,26.2875,59.4,7.4958,34.0208,10.5,24.15,26.0,7.8958,93.5,7.8958,7.225,57.9792,7.2292,7.75,10.5,221.7792,7.925,11.5,26.0,7.2292,7.2292,22.3583,8.6625,26.25,26.55,106.425,14.5,49.5,71.0,31.275,31.275,26.0,106.425,26.0,26.0,13.8625,20.525,36.75,110.8833,26.0,7.8292,7.225,7.775,26.55,39.6,227.525,79.65,17.4,7.75,7.8958,13.5,8.05,8.05,24.15,7.8958,21.075,7.2292,7.8542,10.5,51.4792,26.3875,7.75,8.05,14.5,13.0,55.9,14.4583,7.925,30.0,110.8833,26.0,40.125,8.7125,79.65,15.0,79.2,8.05,8.05,7.125,78.2667,7.25,7.75,26.0,24.15,33.0,0.0,7.225,56.9292,27.0,7.8958,42.4,8.05,26.55,15.55,7.8958,30.5,41.5792,153.4625,31.275,7.05,15.5,7.75,8.05,65.0,14.4,16.1,39.0,10.5,14.4542,52.5542,15.7417,7.8542,16.1,32.3208,12.35,77.9583,7.8958,7.7333,30.0,7.0542,30.5,0.0,27.9,13.0,7.925,26.25,39.6875,16.1,7.8542,69.3,27.9,56.4958,19.2583,76.7292,7.8958,35.5,7.55,7.55,7.8958,23.0,8.4333,7.8292,6.75,73.5,7.8958,15.5,13.0,113.275,133.65,7.225,25.5875,7.4958,7.925,73.5,13.0,7.775,8.05,52.0,39.0,52.0,10.5,13.0,0.0,7.775,8.05,9.8417,46.9,512.3292,8.1375,76.7292,9.225,46.9,39.0,41.5792,39.6875,10.1708,7.7958,211.3375,57.0,13.4167,56.4958,7.225,26.55,13.5,8.05,7.7333,110.8833,7.65,227.525,26.2875,14.4542,7.7417,7.8542,26.0,13.5,26.2875,151.55,15.2458,49.5042,26.55,52.0,9.4833,13.0,7.65,227.525,10.5,15.5,7.775,33.0,7.0542,13.0,13.0,53.1,8.6625,21.0,7.7375,26.0,7.925,211.3375,18.7875,0.0,13.0,13.0,16.1,34.375,512.3292,7.8958,7.8958,30.0,78.85,262.375,16.1,7.925,71.0,20.25,13.0,53.1,7.75,23.0,12.475,9.5,7.8958,65.0,14.5,7.7958,11.5,8.05,86.5,14.5,7.125,7.2292,120.0,7.775,77.9583,39.6,7.75,24.15,8.3625,9.5,7.8542,10.5,7.225,23.0,7.75,7.75,12.475,7.7375,211.3375,7.2292,57.0,30.0,23.45,7.05,7.25,7.4958,29.125,20.575,79.2,7.75,26.0,69.55,30.6958,7.8958,13.0,25.9292,8.6833,7.2292,24.15,13.0,26.25,120.0,8.5167,6.975,7.775,0.0,7.775,13.0,53.1,7.8875,24.15,10.5,31.275,8.05,0.0,7.925,37.0042,6.45,27.9,93.5,8.6625,0.0,12.475,39.6875,6.95,56.4958,37.0042,7.75,80.0,14.4542,18.75,7.2292,7.8542,8.3,83.1583,8.6625,8.05,56.4958,29.7,7.925,10.5,31.0,6.4375,8.6625,7.55,69.55,7.8958,33.0,89.1042,31.275,7.775,15.2458,39.4,26.0,9.35,164.8667,26.55,19.2583,7.2292,14.1083,11.5,25.9292,69.55,13.0,13.0,13.8583,50.4958,9.5,11.1333,7.8958,52.5542,5.0,9.0,24.0,7.225,9.8458,7.8958,7.8958,83.1583,26.0,7.8958,10.5167,10.5,7.05,29.125,13.0,30.0,23.45,30.0,7.75],\"yaxis\":\"y\",\"type\":\"scatter\"}],                        {\"template\":{\"data\":{\"histogram2dcontour\":[{\"type\":\"histogram2dcontour\",\"colorbar\":{\"outlinewidth\":0,\"ticks\":\"\"},\"colorscale\":[[0.0,\"#0d0887\"],[0.1111111111111111,\"#46039f\"],[0.2222222222222222,\"#7201a8\"],[0.3333333333333333,\"#9c179e\"],[0.4444444444444444,\"#bd3786\"],[0.5555555555555556,\"#d8576b\"],[0.6666666666666666,\"#ed7953\"],[0.7777777777777778,\"#fb9f3a\"],[0.8888888888888888,\"#fdca26\"],[1.0,\"#f0f921\"]]}],\"choropleth\":[{\"type\":\"choropleth\",\"colorbar\":{\"outlinewidth\":0,\"ticks\":\"\"}}],\"histogram2d\":[{\"type\":\"histogram2d\",\"colorbar\":{\"outlinewidth\":0,\"ticks\":\"\"},\"colorscale\":[[0.0,\"#0d0887\"],[0.1111111111111111,\"#46039f\"],[0.2222222222222222,\"#7201a8\"],[0.3333333333333333,\"#9c179e\"],[0.4444444444444444,\"#bd3786\"],[0.5555555555555556,\"#d8576b\"],[0.6666666666666666,\"#ed7953\"],[0.7777777777777778,\"#fb9f3a\"],[0.8888888888888888,\"#fdca26\"],[1.0,\"#f0f921\"]]}],\"heatmap\":[{\"type\":\"heatmap\",\"colorbar\":{\"outlinewidth\":0,\"ticks\":\"\"},\"colorscale\":[[0.0,\"#0d0887\"],[0.1111111111111111,\"#46039f\"],[0.2222222222222222,\"#7201a8\"],[0.3333333333333333,\"#9c179e\"],[0.4444444444444444,\"#bd3786\"],[0.5555555555555556,\"#d8576b\"],[0.6666666666666666,\"#ed7953\"],[0.7777777777777778,\"#fb9f3a\"],[0.8888888888888888,\"#fdca26\"],[1.0,\"#f0f921\"]]}],\"heatmapgl\":[{\"type\":\"heatmapgl\",\"colorbar\":{\"outlinewidth\":0,\"ticks\":\"\"},\"colorscale\":[[0.0,\"#0d0887\"],[0.1111111111111111,\"#46039f\"],[0.2222222222222222,\"#7201a8\"],[0.3333333333333333,\"#9c179e\"],[0.4444444444444444,\"#bd3786\"],[0.5555555555555556,\"#d8576b\"],[0.6666666666666666,\"#ed7953\"],[0.7777777777777778,\"#fb9f3a\"],[0.8888888888888888,\"#fdca26\"],[1.0,\"#f0f921\"]]}],\"contourcarpet\":[{\"type\":\"contourcarpet\",\"colorbar\":{\"outlinewidth\":0,\"ticks\":\"\"}}],\"contour\":[{\"type\":\"contour\",\"colorbar\":{\"outlinewidth\":0,\"ticks\":\"\"},\"colorscale\":[[0.0,\"#0d0887\"],[0.1111111111111111,\"#46039f\"],[0.2222222222222222,\"#7201a8\"],[0.3333333333333333,\"#9c179e\"],[0.4444444444444444,\"#bd3786\"],[0.5555555555555556,\"#d8576b\"],[0.6666666666666666,\"#ed7953\"],[0.7777777777777778,\"#fb9f3a\"],[0.8888888888888888,\"#fdca26\"],[1.0,\"#f0f921\"]]}],\"surface\":[{\"type\":\"surface\",\"colorbar\":{\"outlinewidth\":0,\"ticks\":\"\"},\"colorscale\":[[0.0,\"#0d0887\"],[0.1111111111111111,\"#46039f\"],[0.2222222222222222,\"#7201a8\"],[0.3333333333333333,\"#9c179e\"],[0.4444444444444444,\"#bd3786\"],[0.5555555555555556,\"#d8576b\"],[0.6666666666666666,\"#ed7953\"],[0.7777777777777778,\"#fb9f3a\"],[0.8888888888888888,\"#fdca26\"],[1.0,\"#f0f921\"]]}],\"mesh3d\":[{\"type\":\"mesh3d\",\"colorbar\":{\"outlinewidth\":0,\"ticks\":\"\"}}],\"scatter\":[{\"fillpattern\":{\"fillmode\":\"overlay\",\"size\":10,\"solidity\":0.2},\"type\":\"scatter\"}],\"parcoords\":[{\"type\":\"parcoords\",\"line\":{\"colorbar\":{\"outlinewidth\":0,\"ticks\":\"\"}}}],\"scatterpolargl\":[{\"type\":\"scatterpolargl\",\"marker\":{\"colorbar\":{\"outlinewidth\":0,\"ticks\":\"\"}}}],\"bar\":[{\"error_x\":{\"color\":\"#2a3f5f\"},\"error_y\":{\"color\":\"#2a3f5f\"},\"marker\":{\"line\":{\"color\":\"#E5ECF6\",\"width\":0.5},\"pattern\":{\"fillmode\":\"overlay\",\"size\":10,\"solidity\":0.2}},\"type\":\"bar\"}],\"scattergeo\":[{\"type\":\"scattergeo\",\"marker\":{\"colorbar\":{\"outlinewidth\":0,\"ticks\":\"\"}}}],\"scatterpolar\":[{\"type\":\"scatterpolar\",\"marker\":{\"colorbar\":{\"outlinewidth\":0,\"ticks\":\"\"}}}],\"histogram\":[{\"marker\":{\"pattern\":{\"fillmode\":\"overlay\",\"size\":10,\"solidity\":0.2}},\"type\":\"histogram\"}],\"scattergl\":[{\"type\":\"scattergl\",\"marker\":{\"colorbar\":{\"outlinewidth\":0,\"ticks\":\"\"}}}],\"scatter3d\":[{\"type\":\"scatter3d\",\"line\":{\"colorbar\":{\"outlinewidth\":0,\"ticks\":\"\"}},\"marker\":{\"colorbar\":{\"outlinewidth\":0,\"ticks\":\"\"}}}],\"scattermapbox\":[{\"type\":\"scattermapbox\",\"marker\":{\"colorbar\":{\"outlinewidth\":0,\"ticks\":\"\"}}}],\"scatterternary\":[{\"type\":\"scatterternary\",\"marker\":{\"colorbar\":{\"outlinewidth\":0,\"ticks\":\"\"}}}],\"scattercarpet\":[{\"type\":\"scattercarpet\",\"marker\":{\"colorbar\":{\"outlinewidth\":0,\"ticks\":\"\"}}}],\"carpet\":[{\"aaxis\":{\"endlinecolor\":\"#2a3f5f\",\"gridcolor\":\"white\",\"linecolor\":\"white\",\"minorgridcolor\":\"white\",\"startlinecolor\":\"#2a3f5f\"},\"baxis\":{\"endlinecolor\":\"#2a3f5f\",\"gridcolor\":\"white\",\"linecolor\":\"white\",\"minorgridcolor\":\"white\",\"startlinecolor\":\"#2a3f5f\"},\"type\":\"carpet\"}],\"table\":[{\"cells\":{\"fill\":{\"color\":\"#EBF0F8\"},\"line\":{\"color\":\"white\"}},\"header\":{\"fill\":{\"color\":\"#C8D4E3\"},\"line\":{\"color\":\"white\"}},\"type\":\"table\"}],\"barpolar\":[{\"marker\":{\"line\":{\"color\":\"#E5ECF6\",\"width\":0.5},\"pattern\":{\"fillmode\":\"overlay\",\"size\":10,\"solidity\":0.2}},\"type\":\"barpolar\"}],\"pie\":[{\"automargin\":true,\"type\":\"pie\"}]},\"layout\":{\"autotypenumbers\":\"strict\",\"colorway\":[\"#636efa\",\"#EF553B\",\"#00cc96\",\"#ab63fa\",\"#FFA15A\",\"#19d3f3\",\"#FF6692\",\"#B6E880\",\"#FF97FF\",\"#FECB52\"],\"font\":{\"color\":\"#2a3f5f\"},\"hovermode\":\"closest\",\"hoverlabel\":{\"align\":\"left\"},\"paper_bgcolor\":\"white\",\"plot_bgcolor\":\"#E5ECF6\",\"polar\":{\"bgcolor\":\"#E5ECF6\",\"angularaxis\":{\"gridcolor\":\"white\",\"linecolor\":\"white\",\"ticks\":\"\"},\"radialaxis\":{\"gridcolor\":\"white\",\"linecolor\":\"white\",\"ticks\":\"\"}},\"ternary\":{\"bgcolor\":\"#E5ECF6\",\"aaxis\":{\"gridcolor\":\"white\",\"linecolor\":\"white\",\"ticks\":\"\"},\"baxis\":{\"gridcolor\":\"white\",\"linecolor\":\"white\",\"ticks\":\"\"},\"caxis\":{\"gridcolor\":\"white\",\"linecolor\":\"white\",\"ticks\":\"\"}},\"coloraxis\":{\"colorbar\":{\"outlinewidth\":0,\"ticks\":\"\"}},\"colorscale\":{\"sequential\":[[0.0,\"#0d0887\"],[0.1111111111111111,\"#46039f\"],[0.2222222222222222,\"#7201a8\"],[0.3333333333333333,\"#9c179e\"],[0.4444444444444444,\"#bd3786\"],[0.5555555555555556,\"#d8576b\"],[0.6666666666666666,\"#ed7953\"],[0.7777777777777778,\"#fb9f3a\"],[0.8888888888888888,\"#fdca26\"],[1.0,\"#f0f921\"]],\"sequentialminus\":[[0.0,\"#0d0887\"],[0.1111111111111111,\"#46039f\"],[0.2222222222222222,\"#7201a8\"],[0.3333333333333333,\"#9c179e\"],[0.4444444444444444,\"#bd3786\"],[0.5555555555555556,\"#d8576b\"],[0.6666666666666666,\"#ed7953\"],[0.7777777777777778,\"#fb9f3a\"],[0.8888888888888888,\"#fdca26\"],[1.0,\"#f0f921\"]],\"diverging\":[[0,\"#8e0152\"],[0.1,\"#c51b7d\"],[0.2,\"#de77ae\"],[0.3,\"#f1b6da\"],[0.4,\"#fde0ef\"],[0.5,\"#f7f7f7\"],[0.6,\"#e6f5d0\"],[0.7,\"#b8e186\"],[0.8,\"#7fbc41\"],[0.9,\"#4d9221\"],[1,\"#276419\"]]},\"xaxis\":{\"gridcolor\":\"white\",\"linecolor\":\"white\",\"ticks\":\"\",\"title\":{\"standoff\":15},\"zerolinecolor\":\"white\",\"automargin\":true,\"zerolinewidth\":2},\"yaxis\":{\"gridcolor\":\"white\",\"linecolor\":\"white\",\"ticks\":\"\",\"title\":{\"standoff\":15},\"zerolinecolor\":\"white\",\"automargin\":true,\"zerolinewidth\":2},\"scene\":{\"xaxis\":{\"backgroundcolor\":\"#E5ECF6\",\"gridcolor\":\"white\",\"linecolor\":\"white\",\"showbackground\":true,\"ticks\":\"\",\"zerolinecolor\":\"white\",\"gridwidth\":2},\"yaxis\":{\"backgroundcolor\":\"#E5ECF6\",\"gridcolor\":\"white\",\"linecolor\":\"white\",\"showbackground\":true,\"ticks\":\"\",\"zerolinecolor\":\"white\",\"gridwidth\":2},\"zaxis\":{\"backgroundcolor\":\"#E5ECF6\",\"gridcolor\":\"white\",\"linecolor\":\"white\",\"showbackground\":true,\"ticks\":\"\",\"zerolinecolor\":\"white\",\"gridwidth\":2}},\"shapedefaults\":{\"line\":{\"color\":\"#2a3f5f\"}},\"annotationdefaults\":{\"arrowcolor\":\"#2a3f5f\",\"arrowhead\":0,\"arrowwidth\":1},\"geo\":{\"bgcolor\":\"white\",\"landcolor\":\"#E5ECF6\",\"subunitcolor\":\"white\",\"showland\":true,\"showlakes\":true,\"lakecolor\":\"white\"},\"title\":{\"x\":0.05},\"mapbox\":{\"style\":\"light\"}}},\"xaxis\":{\"anchor\":\"y\",\"domain\":[0.0,1.0],\"title\":{\"text\":\"Age\"}},\"yaxis\":{\"anchor\":\"x\",\"domain\":[0.0,1.0],\"title\":{\"text\":\"Fare\"}},\"coloraxis\":{\"colorbar\":{\"title\":{\"text\":\"Survived\"}},\"colorscale\":[[0.0,\"#0d0887\"],[0.1111111111111111,\"#46039f\"],[0.2222222222222222,\"#7201a8\"],[0.3333333333333333,\"#9c179e\"],[0.4444444444444444,\"#bd3786\"],[0.5555555555555556,\"#d8576b\"],[0.6666666666666666,\"#ed7953\"],[0.7777777777777778,\"#fb9f3a\"],[0.8888888888888888,\"#fdca26\"],[1.0,\"#f0f921\"]]},\"legend\":{\"tracegroupgap\":0},\"title\":{\"text\":\"Age vs Fare\"}},                        {\"responsive\": true}                    ).then(function(){\n",
       "                            \n",
       "var gd = document.getElementById('c3d9c0b9-4448-415a-8ec4-87a5c6a63cbf');\n",
       "var x = new MutationObserver(function (mutations, observer) {{\n",
       "        var display = window.getComputedStyle(gd).display;\n",
       "        if (!display || display === 'none') {{\n",
       "            console.log([gd, 'removed!']);\n",
       "            Plotly.purge(gd);\n",
       "            observer.disconnect();\n",
       "        }}\n",
       "}});\n",
       "\n",
       "// Listen for the removal of the full notebook cells\n",
       "var notebookContainer = gd.closest('#notebook-container');\n",
       "if (notebookContainer) {{\n",
       "    x.observe(notebookContainer, {childList: true});\n",
       "}}\n",
       "\n",
       "// Listen for the clearing of the current output cell\n",
       "var outputEl = gd.closest('.output');\n",
       "if (outputEl) {{\n",
       "    x.observe(outputEl, {childList: true});\n",
       "}}\n",
       "\n",
       "                        })                };                });            </script>        </div>"
      ]
     },
     "metadata": {},
     "output_type": "display_data"
    }
   ],
   "source": [
    "# scatter plot age and fare base on survived in plotly\n",
    "fig = px.scatter(df_train, x='Age', y='Fare', color='Survived', title='Age vs Fare')\n",
    "fig.show()"
   ]
  },
  {
   "cell_type": "markdown",
   "id": "02807b1c",
   "metadata": {
    "papermill": {
     "duration": 0.022343,
     "end_time": "2024-02-29T14:14:48.012364",
     "exception": false,
     "start_time": "2024-02-29T14:14:47.990021",
     "status": "completed"
    },
    "tags": []
   },
   "source": [
    "<a id=\"miss\"></a>\n",
    "<span style=\"color: red; font-size: 250%; font-weight: bold;\">Step 5 | Check Missing Values</span>\n"
   ]
  },
  {
   "cell_type": "code",
   "execution_count": 20,
   "id": "51428e00",
   "metadata": {
    "execution": {
     "iopub.execute_input": "2024-02-29T14:14:48.059698Z",
     "iopub.status.busy": "2024-02-29T14:14:48.058838Z",
     "iopub.status.idle": "2024-02-29T14:14:48.586756Z",
     "shell.execute_reply": "2024-02-29T14:14:48.585611Z"
    },
    "papermill": {
     "duration": 0.554727,
     "end_time": "2024-02-29T14:14:48.589622",
     "exception": false,
     "start_time": "2024-02-29T14:14:48.034895",
     "status": "completed"
    },
    "tags": []
   },
   "outputs": [
    {
     "data": {
      "text/plain": [
       "<Axes: >"
      ]
     },
     "execution_count": 20,
     "metadata": {},
     "output_type": "execute_result"
    },
    {
     "data": {
      "image/png": "[encoded data removed]",
      "text/plain": [
       "<Figure size 1200x500 with 2 Axes>"
      ]
     },
     "metadata": {},
     "output_type": "display_data"
    }
   ],
   "source": [
    "# check null values of train data by graphically\n",
    "\n",
    "plt.figure(figsize=(12,5))\n",
    "sns.heatmap(df_train.isnull())"
   ]
  },
  {
   "cell_type": "code",
   "execution_count": 21,
   "id": "ef9b1ed4",
   "metadata": {
    "execution": {
     "iopub.execute_input": "2024-02-29T14:14:48.639312Z",
     "iopub.status.busy": "2024-02-29T14:14:48.638553Z",
     "iopub.status.idle": "2024-02-29T14:14:49.153588Z",
     "shell.execute_reply": "2024-02-29T14:14:49.152185Z"
    },
    "papermill": {
     "duration": 0.542297,
     "end_time": "2024-02-29T14:14:49.155862",
     "exception": false,
     "start_time": "2024-02-29T14:14:48.613565",
     "status": "completed"
    },
    "tags": []
   },
   "outputs": [
    {
     "data": {
      "text/plain": [
       "<Axes: >"
      ]
     },
     "execution_count": 21,
     "metadata": {},
     "output_type": "execute_result"
    },
    {
     "data": {
      "image/png": "[encoded data removed]",
      "text/plain": [
       "<Figure size 1200x500 with 2 Axes>"
      ]
     },
     "metadata": {},
     "output_type": "display_data"
    }
   ],
   "source": [
    "# check null values of test data by graphically\n",
    "\n",
    "plt.figure(figsize=(12,5))\n",
    "sns.heatmap(df_test.isnull())"
   ]
  },
  {
   "cell_type": "code",
   "execution_count": 22,
   "id": "688dd97c",
   "metadata": {
    "execution": {
     "iopub.execute_input": "2024-02-29T14:14:49.210722Z",
     "iopub.status.busy": "2024-02-29T14:14:49.210057Z",
     "iopub.status.idle": "2024-02-29T14:14:49.220002Z",
     "shell.execute_reply": "2024-02-29T14:14:49.218815Z"
    },
    "papermill": {
     "duration": 0.040941,
     "end_time": "2024-02-29T14:14:49.222243",
     "exception": false,
     "start_time": "2024-02-29T14:14:49.181302",
     "status": "completed"
    },
    "tags": []
   },
   "outputs": [
    {
     "data": {
      "text/plain": [
       "Cabin          687\n",
       "Age            177\n",
       "AgeGroup       177\n",
       "Embarked         2\n",
       "PassengerId      0\n",
       "Survived         0\n",
       "Pclass           0\n",
       "Name             0\n",
       "Sex              0\n",
       "SibSp            0\n",
       "Parch            0\n",
       "Ticket           0\n",
       "Fare             0\n",
       "dtype: int64"
      ]
     },
     "execution_count": 22,
     "metadata": {},
     "output_type": "execute_result"
    }
   ],
   "source": [
    "# check null values in train data by using pandas\n",
    "df_train.isnull().sum().sort_values(ascending=False)"
   ]
  },
  {
   "cell_type": "markdown",
   "id": "9d7761ef",
   "metadata": {
    "papermill": {
     "duration": 0.024635,
     "end_time": "2024-02-29T14:14:49.272110",
     "exception": false,
     "start_time": "2024-02-29T14:14:49.247475",
     "status": "completed"
    },
    "tags": []
   },
   "source": [
    "`IN TRAIN DATA`\n",
    ">* `Cabin column` have `687` missing values\n",
    ">* `Age column` have `177` missing values\n",
    ">* `Embarkd column` have `2` missing values\n"
   ]
  },
  {
   "cell_type": "code",
   "execution_count": 23,
   "id": "cda1566b",
   "metadata": {
    "execution": {
     "iopub.execute_input": "2024-02-29T14:14:49.325024Z",
     "iopub.status.busy": "2024-02-29T14:14:49.323950Z",
     "iopub.status.idle": "2024-02-29T14:14:49.332283Z",
     "shell.execute_reply": "2024-02-29T14:14:49.331307Z"
    },
    "papermill": {
     "duration": 0.036785,
     "end_time": "2024-02-29T14:14:49.334550",
     "exception": false,
     "start_time": "2024-02-29T14:14:49.297765",
     "status": "completed"
    },
    "tags": []
   },
   "outputs": [
    {
     "data": {
      "text/plain": [
       "Cabin          327\n",
       "Age             86\n",
       "AgeGroup        86\n",
       "Fare             1\n",
       "PassengerId      0\n",
       "Pclass           0\n",
       "Name             0\n",
       "Sex              0\n",
       "SibSp            0\n",
       "Parch            0\n",
       "Ticket           0\n",
       "Embarked         0\n",
       "dtype: int64"
      ]
     },
     "execution_count": 23,
     "metadata": {},
     "output_type": "execute_result"
    }
   ],
   "source": [
    "# check null values in test data by using pandas\n",
    "df_test.isnull().sum().sort_values(ascending=False)"
   ]
  },
  {
   "cell_type": "markdown",
   "id": "1883ae68",
   "metadata": {
    "papermill": {
     "duration": 0.024905,
     "end_time": "2024-02-29T14:14:49.384715",
     "exception": false,
     "start_time": "2024-02-29T14:14:49.359810",
     "status": "completed"
    },
    "tags": []
   },
   "source": [
    "`IN TEST DATA`\n",
    ">* `Cabin column` have `327` missing values\n",
    ">* `Age column` have `86` missing values\n",
    ">* `Fare column` have `1` missing values\n"
   ]
  },
  {
   "cell_type": "code",
   "execution_count": 24,
   "id": "af388631",
   "metadata": {
    "execution": {
     "iopub.execute_input": "2024-02-29T14:14:49.437044Z",
     "iopub.status.busy": "2024-02-29T14:14:49.436646Z",
     "iopub.status.idle": "2024-02-29T14:14:49.447724Z",
     "shell.execute_reply": "2024-02-29T14:14:49.445467Z"
    },
    "papermill": {
     "duration": 0.039977,
     "end_time": "2024-02-29T14:14:49.450121",
     "exception": false,
     "start_time": "2024-02-29T14:14:49.410144",
     "status": "completed"
    },
    "tags": []
   },
   "outputs": [
    {
     "data": {
      "text/plain": [
       "Cabin          77.104377\n",
       "Age            19.865320\n",
       "AgeGroup       19.865320\n",
       "Embarked        0.224467\n",
       "PassengerId     0.000000\n",
       "Survived        0.000000\n",
       "Pclass          0.000000\n",
       "Name            0.000000\n",
       "Sex             0.000000\n",
       "SibSp           0.000000\n",
       "Parch           0.000000\n",
       "Ticket          0.000000\n",
       "Fare            0.000000\n",
       "dtype: float64"
      ]
     },
     "execution_count": 24,
     "metadata": {},
     "output_type": "execute_result"
    }
   ],
   "source": [
    "# percentage of null values\n",
    "percentage=(df_train.isnull().sum().sort_values(ascending=False)/len(df_train))*100\n",
    "percentage"
   ]
  },
  {
   "cell_type": "code",
   "execution_count": 25,
   "id": "a599d34a",
   "metadata": {
    "execution": {
     "iopub.execute_input": "2024-02-29T14:14:49.506254Z",
     "iopub.status.busy": "2024-02-29T14:14:49.505169Z",
     "iopub.status.idle": "2024-02-29T14:14:49.515853Z",
     "shell.execute_reply": "2024-02-29T14:14:49.514698Z"
    },
    "papermill": {
     "duration": 0.040527,
     "end_time": "2024-02-29T14:14:49.518393",
     "exception": false,
     "start_time": "2024-02-29T14:14:49.477866",
     "status": "completed"
    },
    "tags": []
   },
   "outputs": [
    {
     "data": {
      "text/plain": [
       "Cabin          36.700337\n",
       "Age             9.652076\n",
       "AgeGroup        9.652076\n",
       "Fare            0.112233\n",
       "PassengerId     0.000000\n",
       "Pclass          0.000000\n",
       "Name            0.000000\n",
       "Sex             0.000000\n",
       "SibSp           0.000000\n",
       "Parch           0.000000\n",
       "Ticket          0.000000\n",
       "Embarked        0.000000\n",
       "dtype: float64"
      ]
     },
     "execution_count": 25,
     "metadata": {},
     "output_type": "execute_result"
    }
   ],
   "source": [
    "# percentage of null values\n",
    "percentage=(df_test.isnull().sum().sort_values(ascending=False)/len(df_train))*100\n",
    "percentage"
   ]
  },
  {
   "cell_type": "markdown",
   "id": "8e791fe3",
   "metadata": {
    "papermill": {
     "duration": 0.025276,
     "end_time": "2024-02-29T14:14:49.569508",
     "exception": false,
     "start_time": "2024-02-29T14:14:49.544232",
     "status": "completed"
    },
    "tags": []
   },
   "source": [
    "<a id=\"impute\"></a>\n",
    "<span style=\"color: red; font-size: 250%; font-weight: bold;\">Step 6 | Impute Missing Values</span>"
   ]
  },
  {
   "cell_type": "markdown",
   "id": "af4a7536",
   "metadata": {
    "papermill": {
     "duration": 0.025227,
     "end_time": "2024-02-29T14:14:49.620231",
     "exception": false,
     "start_time": "2024-02-29T14:14:49.595004",
     "status": "completed"
    },
    "tags": []
   },
   "source": []
  },
  {
   "cell_type": "markdown",
   "id": "56567ce1",
   "metadata": {
    "papermill": {
     "duration": 0.025122,
     "end_time": "2024-02-29T14:14:49.670834",
     "exception": false,
     "start_time": "2024-02-29T14:14:49.645712",
     "status": "completed"
    },
    "tags": []
   },
   "source": [
    "## `Train Data`"
   ]
  },
  {
   "cell_type": "code",
   "execution_count": 26,
   "id": "1d410dc1",
   "metadata": {
    "execution": {
     "iopub.execute_input": "2024-02-29T14:14:49.723695Z",
     "iopub.status.busy": "2024-02-29T14:14:49.722720Z",
     "iopub.status.idle": "2024-02-29T14:14:49.731017Z",
     "shell.execute_reply": "2024-02-29T14:14:49.729875Z"
    },
    "papermill": {
     "duration": 0.037059,
     "end_time": "2024-02-29T14:14:49.733170",
     "exception": false,
     "start_time": "2024-02-29T14:14:49.696111",
     "status": "completed"
    },
    "tags": []
   },
   "outputs": [
    {
     "name": "stdout",
     "output_type": "stream",
     "text": [
      "Columns  of missing values in train data : ['Age', 'Cabin', 'Embarked', 'AgeGroup']\n"
     ]
    }
   ],
   "source": [
    "missing_data_cols = df_train.isnull().sum()[df_train.isnull().sum() > 0].index.tolist()\n",
    "print(\"Columns  of missing values in train data :\",missing_data_cols)"
   ]
  },
  {
   "cell_type": "code",
   "execution_count": 27,
   "id": "242b6008",
   "metadata": {
    "execution": {
     "iopub.execute_input": "2024-02-29T14:14:49.787482Z",
     "iopub.status.busy": "2024-02-29T14:14:49.786673Z",
     "iopub.status.idle": "2024-02-29T14:14:49.793997Z",
     "shell.execute_reply": "2024-02-29T14:14:49.792914Z"
    },
    "papermill": {
     "duration": 0.036954,
     "end_time": "2024-02-29T14:14:49.796318",
     "exception": false,
     "start_time": "2024-02-29T14:14:49.759364",
     "status": "completed"
    },
    "tags": []
   },
   "outputs": [],
   "source": [
    "# Cabin column  in train data have highest missing values so removed\n",
    "df_train.drop('Cabin', axis=1, inplace=True)"
   ]
  },
  {
   "cell_type": "markdown",
   "id": "2ef89aa6",
   "metadata": {
    "papermill": {
     "duration": 0.025778,
     "end_time": "2024-02-29T14:14:49.847816",
     "exception": false,
     "start_time": "2024-02-29T14:14:49.822038",
     "status": "completed"
    },
    "tags": []
   },
   "source": [
    "> * `Cabin` have more than `50%` missing values in `train data` so removed from data"
   ]
  },
  {
   "cell_type": "code",
   "execution_count": 28,
   "id": "67018a1b",
   "metadata": {
    "execution": {
     "iopub.execute_input": "2024-02-29T14:14:49.902676Z",
     "iopub.status.busy": "2024-02-29T14:14:49.902023Z",
     "iopub.status.idle": "2024-02-29T14:14:49.909223Z",
     "shell.execute_reply": "2024-02-29T14:14:49.908335Z"
    },
    "papermill": {
     "duration": 0.037098,
     "end_time": "2024-02-29T14:14:49.911648",
     "exception": false,
     "start_time": "2024-02-29T14:14:49.874550",
     "status": "completed"
    },
    "tags": []
   },
   "outputs": [],
   "source": [
    "categorical_cols = [\"Embarked\",'AgeGroup']\n",
    "bool_cols = []\n",
    "numeric_cols = [\"Age\"]\n",
    "missing_data_cols = df_train.isnull().sum()[df_train.isnull().sum() > 0].index.tolist()"
   ]
  },
  {
   "cell_type": "code",
   "execution_count": 29,
   "id": "797787f9",
   "metadata": {
    "execution": {
     "iopub.execute_input": "2024-02-29T14:14:49.964925Z",
     "iopub.status.busy": "2024-02-29T14:14:49.964524Z",
     "iopub.status.idle": "2024-02-29T14:14:49.969165Z",
     "shell.execute_reply": "2024-02-29T14:14:49.968350Z"
    },
    "papermill": {
     "duration": 0.033226,
     "end_time": "2024-02-29T14:14:49.971077",
     "exception": false,
     "start_time": "2024-02-29T14:14:49.937851",
     "status": "completed"
    },
    "tags": []
   },
   "outputs": [],
   "source": [
    "df=df_train.copy()"
   ]
  },
  {
   "cell_type": "code",
   "execution_count": 30,
   "id": "5b523394",
   "metadata": {
    "execution": {
     "iopub.execute_input": "2024-02-29T14:14:50.025952Z",
     "iopub.status.busy": "2024-02-29T14:14:50.025190Z",
     "iopub.status.idle": "2024-02-29T14:14:50.046569Z",
     "shell.execute_reply": "2024-02-29T14:14:50.045366Z"
    },
    "papermill": {
     "duration": 0.051622,
     "end_time": "2024-02-29T14:14:50.049031",
     "exception": false,
     "start_time": "2024-02-29T14:14:49.997409",
     "status": "completed"
    },
    "tags": []
   },
   "outputs": [],
   "source": [
    "\n",
    "# define the function to impute the missing values \n",
    "\n",
    "def impute_categorical_missing_data(passed_col):\n",
    "    \n",
    "    df_null = df[df[passed_col].isnull()]\n",
    "    df_not_null = df[df[passed_col].notnull()]\n",
    "\n",
    "    X = df_not_null.drop(passed_col, axis=1)\n",
    "    y = df_not_null[passed_col]\n",
    "    \n",
    "    other_missing_cols = [col for col in missing_data_cols if col != passed_col]\n",
    "    \n",
    "    label_encoder = LabelEncoder()\n",
    "\n",
    "    for col in X.columns:\n",
    "        if X[col].dtype == 'object' or X[col].dtype == 'category':\n",
    "            X[col] = label_encoder.fit_transform(X[col])\n",
    "\n",
    "    if passed_col in bool_cols:\n",
    "        y = label_encoder.fit_transform(y)\n",
    "        \n",
    "    iterative_imputer = IterativeImputer(estimator=RandomForestRegressor(random_state=42), add_indicator=True)\n",
    "\n",
    "    for col in other_missing_cols:\n",
    "        if X[col].isnull().sum() > 0:\n",
    "            col_with_missing_values = X[col].values.reshape(-1, 1)\n",
    "            imputed_values = iterative_imputer.fit_transform(col_with_missing_values)\n",
    "            X[col] = imputed_values[:, 0]\n",
    "        else:\n",
    "            pass\n",
    "    \n",
    "    X_train, X_test, y_train, y_test = train_test_split(X, y, test_size=0.2, random_state=42)\n",
    "\n",
    "    rf_classifier = RandomForestClassifier()\n",
    "\n",
    "    rf_classifier.fit(X_train, y_train)\n",
    "\n",
    "    y_pred = rf_classifier.predict(X_test)\n",
    "\n",
    "    acc_score = accuracy_score(y_test, y_pred)\n",
    "\n",
    "    print(\"The feature '\"+ passed_col+ \"' has been imputed with\", round((acc_score * 100), 2), \"accuracy\\n\")\n",
    "\n",
    "    X = df_null.drop(passed_col, axis=1)\n",
    "\n",
    "    for col in X.columns:\n",
    "        if X[col].dtype == 'object' or X[col].dtype == 'category':\n",
    "            X[col] = label_encoder.fit_transform(X[col])\n",
    "\n",
    "    for col in other_missing_cols:\n",
    "        if X[col].isnull().sum() > 0:\n",
    "            col_with_missing_values = X[col].values.reshape(-1, 1)\n",
    "            imputed_values = iterative_imputer.fit_transform(col_with_missing_values)\n",
    "            X[col] = imputed_values[:, 0]\n",
    "        else:\n",
    "            pass\n",
    "                \n",
    "    if len(df_null) > 0: \n",
    "        df_null[passed_col] = rf_classifier.predict(X)\n",
    "        if passed_col in bool_cols:\n",
    "            df_null[passed_col] = df_null[passed_col].map({0: False, 1: True})\n",
    "        else:\n",
    "            pass\n",
    "    else:\n",
    "        pass\n",
    "\n",
    "    df_combined = pd.concat([df_not_null, df_null])\n",
    "    \n",
    "    return df_combined[passed_col]\n",
    "\n",
    "def impute_continuous_missing_data(passed_col):\n",
    "    \n",
    "    df_null = df[df[passed_col].isnull()]\n",
    "    df_not_null = df[df[passed_col].notnull()]\n",
    "\n",
    "    X = df_not_null.drop(passed_col, axis=1)\n",
    "    y = df_not_null[passed_col]\n",
    "    \n",
    "    other_missing_cols = [col for col in missing_data_cols if col != passed_col]\n",
    "    \n",
    "    label_encoder = LabelEncoder()\n",
    "\n",
    "    for col in X.columns:\n",
    "        if X[col].dtype == 'object' or X[col].dtype == 'category':\n",
    "            X[col] = label_encoder.fit_transform(X[col])\n",
    "    \n",
    "    iterative_imputer = IterativeImputer(estimator=RandomForestRegressor(random_state=42), add_indicator=True)\n",
    "\n",
    "    for col in other_missing_cols:\n",
    "        if X[col].isnull().sum() > 0:\n",
    "            col_with_missing_values = X[col].values.reshape(-1, 1)\n",
    "            imputed_values = iterative_imputer.fit_transform(col_with_missing_values)\n",
    "            X[col] = imputed_values[:, 0]\n",
    "        else:\n",
    "            pass\n",
    "    \n",
    "    X_train, X_test, y_train, y_test = train_test_split(X, y, test_size=0.2, random_state=42)\n",
    "\n",
    "    rf_regressor = RandomForestRegressor()\n",
    "\n",
    "    rf_regressor.fit(X_train, y_train)\n",
    "\n",
    "    y_pred = rf_regressor.predict(X_test)\n",
    "\n",
    "    print(\"MAE =\", mean_absolute_error(y_test, y_pred), \"\\n\")\n",
    "    print(\"RMSE =\", mean_squared_error(y_test, y_pred, squared=False), \"\\n\")\n",
    "    print(\"R2 =\", r2_score(y_test, y_pred), \"\\n\")\n",
    "\n",
    "    X = df_null.drop(passed_col, axis=1)\n",
    "\n",
    "    for col in X.columns:\n",
    "        if X[col].dtype == 'object' or X[col].dtype == 'category':\n",
    "            X[col] = label_encoder.fit_transform(X[col])\n",
    "\n",
    "    for col in other_missing_cols:\n",
    "        if X[col].isnull().sum() > 0:\n",
    "            col_with_missing_values = X[col].values.reshape(-1, 1)\n",
    "            imputed_values = iterative_imputer.fit_transform(col_with_missing_values)\n",
    "            X[col] = imputed_values[:, 0]\n",
    "        else:\n",
    "            pass\n",
    "                \n",
    "    if len(df_null) > 0: \n",
    "        df_null[passed_col] = rf_regressor.predict(X)\n",
    "    else:\n",
    "        pass\n",
    "\n",
    "    df_combined = pd.concat([df_not_null, df_null])\n",
    "    \n",
    "    return df_combined[passed_col]"
   ]
  },
  {
   "cell_type": "code",
   "execution_count": 31,
   "id": "41160fcd",
   "metadata": {
    "execution": {
     "iopub.execute_input": "2024-02-29T14:14:50.102608Z",
     "iopub.status.busy": "2024-02-29T14:14:50.102185Z",
     "iopub.status.idle": "2024-02-29T14:14:51.017884Z",
     "shell.execute_reply": "2024-02-29T14:14:51.016656Z"
    },
    "papermill": {
     "duration": 0.944894,
     "end_time": "2024-02-29T14:14:51.020267",
     "exception": false,
     "start_time": "2024-02-29T14:14:50.075373",
     "status": "completed"
    },
    "tags": []
   },
   "outputs": [
    {
     "name": "stdout",
     "output_type": "stream",
     "text": [
      "Missing Values Age : 19.87%\n",
      "MAE = 2.394423076923077 \n",
      "\n",
      "RMSE = 2.9243801144236303 \n",
      "\n",
      "R2 = 0.9538737578673739 \n",
      "\n",
      "Missing Values Embarked : 0.22%\n",
      "The feature 'Embarked' has been imputed with 88.76 accuracy\n",
      "\n",
      "Missing Values AgeGroup : 19.87%\n",
      "The feature 'AgeGroup' has been imputed with 95.1 accuracy\n",
      "\n"
     ]
    }
   ],
   "source": [
    "# impute missing values using our functions\n",
    "for col in missing_data_cols:\n",
    "    print(\"Missing Values\", col, \":\", str(round((df[col].isnull().sum() / len(df)) * 100, 2))+\"%\")\n",
    "    if col in categorical_cols:\n",
    "        df[col] = impute_categorical_missing_data(col)\n",
    "    elif col in numeric_cols:\n",
    "        df[col] = impute_continuous_missing_data(col)\n",
    "    else:\n",
    "\n",
    "        pass"
   ]
  },
  {
   "cell_type": "markdown",
   "id": "b5363093",
   "metadata": {
    "papermill": {
     "duration": 0.025774,
     "end_time": "2024-02-29T14:14:51.072162",
     "exception": false,
     "start_time": "2024-02-29T14:14:51.046388",
     "status": "completed"
    },
    "tags": []
   },
   "source": [
    "## `Test Data`"
   ]
  },
  {
   "cell_type": "code",
   "execution_count": 32,
   "id": "330c4266",
   "metadata": {
    "execution": {
     "iopub.execute_input": "2024-02-29T14:14:51.127155Z",
     "iopub.status.busy": "2024-02-29T14:14:51.126768Z",
     "iopub.status.idle": "2024-02-29T14:14:51.132152Z",
     "shell.execute_reply": "2024-02-29T14:14:51.131111Z"
    },
    "papermill": {
     "duration": 0.034916,
     "end_time": "2024-02-29T14:14:51.134245",
     "exception": false,
     "start_time": "2024-02-29T14:14:51.099329",
     "status": "completed"
    },
    "tags": []
   },
   "outputs": [],
   "source": [
    "# Cabin column  in test data have highest missing values so removed\n",
    "df_test.drop('Cabin', axis=1, inplace=True)"
   ]
  },
  {
   "cell_type": "code",
   "execution_count": 33,
   "id": "b2376083",
   "metadata": {
    "execution": {
     "iopub.execute_input": "2024-02-29T14:14:51.187383Z",
     "iopub.status.busy": "2024-02-29T14:14:51.186980Z",
     "iopub.status.idle": "2024-02-29T14:14:51.195761Z",
     "shell.execute_reply": "2024-02-29T14:14:51.194717Z"
    },
    "papermill": {
     "duration": 0.038045,
     "end_time": "2024-02-29T14:14:51.197932",
     "exception": false,
     "start_time": "2024-02-29T14:14:51.159887",
     "status": "completed"
    },
    "tags": []
   },
   "outputs": [
    {
     "data": {
      "text/plain": [
       "PassengerId     0\n",
       "Pclass          0\n",
       "Name            0\n",
       "Sex             0\n",
       "Age            86\n",
       "SibSp           0\n",
       "Parch           0\n",
       "Ticket          0\n",
       "Fare            1\n",
       "Embarked        0\n",
       "AgeGroup       86\n",
       "dtype: int64"
      ]
     },
     "execution_count": 33,
     "metadata": {},
     "output_type": "execute_result"
    }
   ],
   "source": [
    "df_test.isnull().sum()"
   ]
  },
  {
   "cell_type": "code",
   "execution_count": 34,
   "id": "05fd7ed8",
   "metadata": {
    "execution": {
     "iopub.execute_input": "2024-02-29T14:14:51.253919Z",
     "iopub.status.busy": "2024-02-29T14:14:51.252792Z",
     "iopub.status.idle": "2024-02-29T14:14:51.261095Z",
     "shell.execute_reply": "2024-02-29T14:14:51.259997Z"
    },
    "papermill": {
     "duration": 0.039216,
     "end_time": "2024-02-29T14:14:51.263732",
     "exception": false,
     "start_time": "2024-02-29T14:14:51.224516",
     "status": "completed"
    },
    "tags": []
   },
   "outputs": [],
   "source": [
    "categorical_cols = []\n",
    "bool_cols = []\n",
    "numeric_cols = [\"Age\", \"Fare\"]\n",
    "missing_data_cols = df_test.isnull().sum()[df_test.isnull().sum() > 0].index.tolist()\n"
   ]
  },
  {
   "cell_type": "code",
   "execution_count": 35,
   "id": "9b5a2514",
   "metadata": {
    "execution": {
     "iopub.execute_input": "2024-02-29T14:14:51.319685Z",
     "iopub.status.busy": "2024-02-29T14:14:51.319290Z",
     "iopub.status.idle": "2024-02-29T14:14:51.323586Z",
     "shell.execute_reply": "2024-02-29T14:14:51.322376Z"
    },
    "papermill": {
     "duration": 0.035166,
     "end_time": "2024-02-29T14:14:51.325742",
     "exception": false,
     "start_time": "2024-02-29T14:14:51.290576",
     "status": "completed"
    },
    "tags": []
   },
   "outputs": [],
   "source": [
    "# df=df_test.copy()\n"
   ]
  },
  {
   "cell_type": "code",
   "execution_count": 36,
   "id": "ba02bfb3",
   "metadata": {
    "execution": {
     "iopub.execute_input": "2024-02-29T14:14:51.379680Z",
     "iopub.status.busy": "2024-02-29T14:14:51.379293Z",
     "iopub.status.idle": "2024-02-29T14:14:51.401921Z",
     "shell.execute_reply": "2024-02-29T14:14:51.400841Z"
    },
    "papermill": {
     "duration": 0.052411,
     "end_time": "2024-02-29T14:14:51.404190",
     "exception": false,
     "start_time": "2024-02-29T14:14:51.351779",
     "status": "completed"
    },
    "tags": []
   },
   "outputs": [],
   "source": [
    "\n",
    "# define the function to impute the missing values \n",
    "\n",
    "def impute_categorical_missing_data(passed_col):\n",
    "    \n",
    "    df_null = df[df[passed_col].isnull()]\n",
    "    df_not_null = df[df[passed_col].notnull()]\n",
    "\n",
    "    X = df_not_null.drop(passed_col, axis=1)\n",
    "    y = df_not_null[passed_col]\n",
    "    \n",
    "    other_missing_cols = [col for col in missing_data_cols if col != passed_col]\n",
    "    \n",
    "    label_encoder = LabelEncoder()\n",
    "\n",
    "    for col in X.columns:\n",
    "        if X[col].dtype == 'object' or X[col].dtype == 'category':\n",
    "            X[col] = label_encoder.fit_transform(X[col])\n",
    "\n",
    "    if passed_col in bool_cols:\n",
    "        y = label_encoder.fit_transform(y)\n",
    "        \n",
    "    iterative_imputer = IterativeImputer(estimator=RandomForestRegressor(random_state=42), add_indicator=True)\n",
    "\n",
    "    for col in other_missing_cols:\n",
    "        if X[col].isnull().sum() > 0:\n",
    "            col_with_missing_values = X[col].values.reshape(-1, 1)\n",
    "            imputed_values = iterative_imputer.fit_transform(col_with_missing_values)\n",
    "            X[col] = imputed_values[:, 0]\n",
    "        else:\n",
    "            pass\n",
    "    \n",
    "    X_train, X_test, y_train, y_test = train_test_split(X, y, test_size=0.2, random_state=42)\n",
    "\n",
    "    rf_classifier = RandomForestClassifier()\n",
    "\n",
    "    rf_classifier.fit(X_train, y_train)\n",
    "\n",
    "    y_pred = rf_classifier.predict(X_test)\n",
    "\n",
    "    acc_score = accuracy_score(y_test, y_pred)\n",
    "\n",
    "    print(\"The feature '\"+ passed_col+ \"' has been imputed with\", round((acc_score * 100), 2), \"accuracy\\n\")\n",
    "\n",
    "    X = df_null.drop(passed_col, axis=1)\n",
    "\n",
    "    for col in X.columns:\n",
    "        if X[col].dtype == 'object' or X[col].dtype == 'category':\n",
    "            X[col] = label_encoder.fit_transform(X[col])\n",
    "\n",
    "    for col in other_missing_cols:\n",
    "        if X[col].isnull().sum() > 0:\n",
    "            col_with_missing_values = X[col].values.reshape(-1, 1)\n",
    "            imputed_values = iterative_imputer.fit_transform(col_with_missing_values)\n",
    "            X[col] = imputed_values[:, 0]\n",
    "        else:\n",
    "            pass\n",
    "                \n",
    "    if len(df_null) > 0: \n",
    "        df_null[passed_col] = rf_classifier.predict(X)\n",
    "        if passed_col in bool_cols:\n",
    "            df_null[passed_col] = df_null[passed_col].map({0: False, 1: True})\n",
    "        else:\n",
    "            pass\n",
    "    else:\n",
    "        pass\n",
    "\n",
    "    df_combined = pd.concat([df_not_null, df_null])\n",
    "    \n",
    "    return df_combined[passed_col]\n",
    "\n",
    "def impute_continuous_missing_data(passed_col):\n",
    "    \n",
    "    df_null = df[df[passed_col].isnull()]\n",
    "    df_not_null = df[df[passed_col].notnull()]\n",
    "\n",
    "    X = df_not_null.drop(passed_col, axis=1)\n",
    "    y = df_not_null[passed_col]\n",
    "    \n",
    "    other_missing_cols = [col for col in missing_data_cols if col != passed_col]\n",
    "    \n",
    "    label_encoder = LabelEncoder()\n",
    "\n",
    "    for col in X.columns:\n",
    "        if X[col].dtype == 'object' or X[col].dtype == 'category':\n",
    "            X[col] = label_encoder.fit_transform(X[col])\n",
    "    \n",
    "    iterative_imputer = IterativeImputer(estimator=RandomForestRegressor(random_state=42), add_indicator=True)\n",
    "\n",
    "    for col in other_missing_cols:\n",
    "        if X[col].isnull().sum() > 0:\n",
    "            col_with_missing_values = X[col].values.reshape(-1, 1)\n",
    "            imputed_values = iterative_imputer.fit_transform(col_with_missing_values)\n",
    "            X[col] = imputed_values[:, 0]\n",
    "        else:\n",
    "            pass\n",
    "    \n",
    "    X_train, X_test, y_train, y_test = train_test_split(X, y, test_size=0.2, random_state=42)\n",
    "\n",
    "    rf_regressor = RandomForestRegressor()\n",
    "\n",
    "    rf_regressor.fit(X_train, y_train)\n",
    "\n",
    "    y_pred = rf_regressor.predict(X_test)\n",
    "\n",
    "    print(\"MAE =\", mean_absolute_error(y_test, y_pred), \"\\n\")\n",
    "    print(\"RMSE =\", mean_squared_error(y_test, y_pred, squared=False), \"\\n\")\n",
    "    print(\"R2 =\", r2_score(y_test, y_pred), \"\\n\")\n",
    "\n",
    "    X = df_null.drop(passed_col, axis=1)\n",
    "\n",
    "    for col in X.columns:\n",
    "        if X[col].dtype == 'object' or X[col].dtype == 'category':\n",
    "            X[col] = label_encoder.fit_transform(X[col])\n",
    "\n",
    "    for col in other_missing_cols:\n",
    "        if X[col].isnull().sum() > 0:\n",
    "            col_with_missing_values = X[col].values.reshape(-1, 1)\n",
    "            imputed_values = iterative_imputer.fit_transform(col_with_missing_values)\n",
    "            X[col] = imputed_values[:, 0]\n",
    "        else:\n",
    "            pass\n",
    "                \n",
    "    if len(df_null) > 0: \n",
    "        df_null[passed_col] = rf_regressor.predict(X)\n",
    "    else:\n",
    "        pass\n",
    "\n",
    "    df_combined = pd.concat([df_not_null, df_null])\n",
    "    \n",
    "    return df_combined[passed_col]"
   ]
  },
  {
   "cell_type": "code",
   "execution_count": 37,
   "id": "b217e24e",
   "metadata": {
    "execution": {
     "iopub.execute_input": "2024-02-29T14:14:51.457902Z",
     "iopub.status.busy": "2024-02-29T14:14:51.457488Z",
     "iopub.status.idle": "2024-02-29T14:14:52.332169Z",
     "shell.execute_reply": "2024-02-29T14:14:52.331184Z"
    },
    "papermill": {
     "duration": 0.90437,
     "end_time": "2024-02-29T14:14:52.334519",
     "exception": false,
     "start_time": "2024-02-29T14:14:51.430149",
     "status": "completed"
    },
    "tags": []
   },
   "outputs": [
    {
     "name": "stdout",
     "output_type": "stream",
     "text": [
      "Missing Values Age : 20.57%\n",
      "MAE = 3.2315277206703907 \n",
      "\n",
      "RMSE = 4.135325633108275 \n",
      "\n",
      "R2 = 0.9428327895896574 \n",
      "\n",
      "Missing Values Fare : 0.24%\n",
      "MAE = 13.581854525139661 \n",
      "\n",
      "RMSE = 38.676713567735916 \n",
      "\n",
      "R2 = 0.033307781099274236 \n",
      "\n",
      "Missing Values AgeGroup : 20.57%\n"
     ]
    }
   ],
   "source": [
    "# impute missing values using our functions\n",
    "for col in missing_data_cols:\n",
    "    print(\"Missing Values\", col, \":\", str(round((df_test[col].isnull().sum() / len(df_test)) * 100, 2))+\"%\")\n",
    "    if col in categorical_cols:\n",
    "        df_test[col] = impute_categorical_missing_data(col)\n",
    "    elif col in numeric_cols:\n",
    "        df_test[col] = impute_continuous_missing_data(col)\n",
    "    else:\n",
    "        pass"
   ]
  },
  {
   "cell_type": "markdown",
   "id": "649128e6",
   "metadata": {
    "papermill": {
     "duration": 0.025798,
     "end_time": "2024-02-29T14:14:52.386352",
     "exception": false,
     "start_time": "2024-02-29T14:14:52.360554",
     "status": "completed"
    },
    "tags": []
   },
   "source": [
    "## ***All missing values imputed***"
   ]
  },
  {
   "cell_type": "markdown",
   "id": "6543f79e",
   "metadata": {
    "papermill": {
     "duration": 0.025692,
     "end_time": "2024-02-29T14:14:52.438129",
     "exception": false,
     "start_time": "2024-02-29T14:14:52.412437",
     "status": "completed"
    },
    "tags": []
   },
   "source": [
    "<a id=\"outlier\"></a>\n",
    "<span style=\"color: red; font-size: 250%; font-weight: bold;\">Step 7 | Outliers</span>"
   ]
  },
  {
   "cell_type": "markdown",
   "id": "90b13c38",
   "metadata": {
    "papermill": {
     "duration": 0.025692,
     "end_time": "2024-02-29T14:14:52.489791",
     "exception": false,
     "start_time": "2024-02-29T14:14:52.464099",
     "status": "completed"
    },
    "tags": []
   },
   "source": [
    "`TRAIN DATA`"
   ]
  },
  {
   "cell_type": "code",
   "execution_count": 38,
   "id": "bae6d4a3",
   "metadata": {
    "execution": {
     "iopub.execute_input": "2024-02-29T14:14:52.545567Z",
     "iopub.status.busy": "2024-02-29T14:14:52.544935Z",
     "iopub.status.idle": "2024-02-29T14:14:52.550980Z",
     "shell.execute_reply": "2024-02-29T14:14:52.550103Z"
    },
    "papermill": {
     "duration": 0.036061,
     "end_time": "2024-02-29T14:14:52.553230",
     "exception": false,
     "start_time": "2024-02-29T14:14:52.517169",
     "status": "completed"
    },
    "tags": []
   },
   "outputs": [],
   "source": [
    "# Remove outliers from Age column in train data removed outliers greater than 70\n",
    "df_train = df_train[df_train['Age'] < 70]\n",
    "# remove outliers from Fare column in train data removed outliers greater than 500\n",
    "df_train = df_train[df_train['Fare'] < 500]"
   ]
  },
  {
   "cell_type": "markdown",
   "id": "f4346dea",
   "metadata": {
    "papermill": {
     "duration": 0.026006,
     "end_time": "2024-02-29T14:14:52.605661",
     "exception": false,
     "start_time": "2024-02-29T14:14:52.579655",
     "status": "completed"
    },
    "tags": []
   },
   "source": [
    "<a id=\"ml\"></a>\n",
    "<span style=\"color: red; font-size: 250%; font-weight: bold;\">Step 8 | Machine Learning</span>"
   ]
  },
  {
   "cell_type": "markdown",
   "id": "bd18518a",
   "metadata": {
    "papermill": {
     "duration": 0.025923,
     "end_time": "2024-02-29T14:14:52.658182",
     "exception": false,
     "start_time": "2024-02-29T14:14:52.632259",
     "status": "completed"
    },
    "tags": []
   },
   "source": [
    "##  ***8.1 : Features Selection***"
   ]
  },
  {
   "cell_type": "markdown",
   "id": "61940119",
   "metadata": {
    "papermill": {
     "duration": 0.025821,
     "end_time": "2024-02-29T14:14:52.710082",
     "exception": false,
     "start_time": "2024-02-29T14:14:52.684261",
     "status": "completed"
    },
    "tags": []
   },
   "source": [
    ">* `Name` ,`Ticket` and `AgeGroup` column are not necessary or valuable for train the model so removed"
   ]
  },
  {
   "cell_type": "code",
   "execution_count": 39,
   "id": "ed126da8",
   "metadata": {
    "execution": {
     "iopub.execute_input": "2024-02-29T14:14:52.764358Z",
     "iopub.status.busy": "2024-02-29T14:14:52.763665Z",
     "iopub.status.idle": "2024-02-29T14:14:52.777849Z",
     "shell.execute_reply": "2024-02-29T14:14:52.776744Z"
    },
    "papermill": {
     "duration": 0.044245,
     "end_time": "2024-02-29T14:14:52.780329",
     "exception": false,
     "start_time": "2024-02-29T14:14:52.736084",
     "status": "completed"
    },
    "tags": []
   },
   "outputs": [
    {
     "data": {
      "text/html": [
       "<div>\n",
       "<style scoped>\n",
       "    .dataframe tbody tr th:only-of-type {\n",
       "        vertical-align: middle;\n",
       "    }\n",
       "\n",
       "    .dataframe tbody tr th {\n",
       "        vertical-align: top;\n",
       "    }\n",
       "\n",
       "    .dataframe thead th {\n",
       "        text-align: right;\n",
       "    }\n",
       "</style>\n",
       "<table border=\"1\" class=\"dataframe\">\n",
       "  <thead>\n",
       "    <tr style=\"text-align: right;\">\n",
       "      <th></th>\n",
       "      <th>PassengerId</th>\n",
       "      <th>Pclass</th>\n",
       "      <th>Name</th>\n",
       "      <th>Sex</th>\n",
       "      <th>Age</th>\n",
       "      <th>SibSp</th>\n",
       "      <th>Parch</th>\n",
       "      <th>Ticket</th>\n",
       "      <th>Fare</th>\n",
       "      <th>Embarked</th>\n",
       "      <th>AgeGroup</th>\n",
       "    </tr>\n",
       "  </thead>\n",
       "  <tbody>\n",
       "    <tr>\n",
       "      <th>0</th>\n",
       "      <td>892</td>\n",
       "      <td>3</td>\n",
       "      <td>Kelly, Mr. James</td>\n",
       "      <td>male</td>\n",
       "      <td>22.0</td>\n",
       "      <td>0</td>\n",
       "      <td>0</td>\n",
       "      <td>330911</td>\n",
       "      <td>7.2500</td>\n",
       "      <td>Q</td>\n",
       "      <td>Teens</td>\n",
       "    </tr>\n",
       "    <tr>\n",
       "      <th>1</th>\n",
       "      <td>893</td>\n",
       "      <td>3</td>\n",
       "      <td>Wilkes, Mrs. James (Ellen Needs)</td>\n",
       "      <td>female</td>\n",
       "      <td>38.0</td>\n",
       "      <td>1</td>\n",
       "      <td>0</td>\n",
       "      <td>363272</td>\n",
       "      <td>71.2833</td>\n",
       "      <td>S</td>\n",
       "      <td>Youngs</td>\n",
       "    </tr>\n",
       "  </tbody>\n",
       "</table>\n",
       "</div>"
      ],
      "text/plain": [
       "   PassengerId  Pclass                              Name     Sex   Age  SibSp  \\\n",
       "0          892       3                  Kelly, Mr. James    male  22.0      0   \n",
       "1          893       3  Wilkes, Mrs. James (Ellen Needs)  female  38.0      1   \n",
       "\n",
       "   Parch  Ticket     Fare Embarked AgeGroup  \n",
       "0      0  330911   7.2500        Q    Teens  \n",
       "1      0  363272  71.2833        S   Youngs  "
      ]
     },
     "execution_count": 39,
     "metadata": {},
     "output_type": "execute_result"
    }
   ],
   "source": [
    "df_test.head(2)"
   ]
  },
  {
   "cell_type": "code",
   "execution_count": 40,
   "id": "b0ce9e59",
   "metadata": {
    "execution": {
     "iopub.execute_input": "2024-02-29T14:14:52.836586Z",
     "iopub.status.busy": "2024-02-29T14:14:52.835953Z",
     "iopub.status.idle": "2024-02-29T14:14:52.842829Z",
     "shell.execute_reply": "2024-02-29T14:14:52.841787Z"
    },
    "papermill": {
     "duration": 0.037067,
     "end_time": "2024-02-29T14:14:52.845133",
     "exception": false,
     "start_time": "2024-02-29T14:14:52.808066",
     "status": "completed"
    },
    "tags": []
   },
   "outputs": [],
   "source": [
    "df_train.drop(['Name','Ticket','AgeGroup'],axis=1,inplace=True)\n",
    "df_test.drop(['Name','Ticket','AgeGroup'],axis=1,inplace=True)"
   ]
  },
  {
   "cell_type": "code",
   "execution_count": 41,
   "id": "b21363ea",
   "metadata": {
    "execution": {
     "iopub.execute_input": "2024-02-29T14:14:52.901397Z",
     "iopub.status.busy": "2024-02-29T14:14:52.901021Z",
     "iopub.status.idle": "2024-02-29T14:14:52.910327Z",
     "shell.execute_reply": "2024-02-29T14:14:52.909179Z"
    },
    "papermill": {
     "duration": 0.039378,
     "end_time": "2024-02-29T14:14:52.912528",
     "exception": false,
     "start_time": "2024-02-29T14:14:52.873150",
     "status": "completed"
    },
    "tags": []
   },
   "outputs": [],
   "source": [
    "# encode the categorical columns\n",
    "le = LabelEncoder()\n",
    "for col in df_train.columns:\n",
    "    if df_train[col].dtypes == 'object' or df_train[col].dtypes == 'category':\n",
    "        df_train[col] = le.fit_transform(df_train[col])\n",
    "# encode the categorical columns\n",
    "le = LabelEncoder()\n",
    "for col in df_test.columns:\n",
    "    if df_test[col].dtypes == 'object' or df_test[col].dtypes == 'category':\n",
    "        df_test[col] = le.fit_transform(df_test[col])"
   ]
  },
  {
   "cell_type": "code",
   "execution_count": 42,
   "id": "dbea7811",
   "metadata": {
    "execution": {
     "iopub.execute_input": "2024-02-29T14:14:52.969367Z",
     "iopub.status.busy": "2024-02-29T14:14:52.968295Z",
     "iopub.status.idle": "2024-02-29T14:14:52.974609Z",
     "shell.execute_reply": "2024-02-29T14:14:52.973720Z"
    },
    "papermill": {
     "duration": 0.037156,
     "end_time": "2024-02-29T14:14:52.976814",
     "exception": false,
     "start_time": "2024-02-29T14:14:52.939658",
     "status": "completed"
    },
    "tags": []
   },
   "outputs": [],
   "source": [
    "X = df_train.drop(['Survived','PassengerId'],axis=1)\n",
    "y = df_train['Survived']"
   ]
  },
  {
   "cell_type": "code",
   "execution_count": 43,
   "id": "4756fbd5",
   "metadata": {
    "execution": {
     "iopub.execute_input": "2024-02-29T14:14:53.031554Z",
     "iopub.status.busy": "2024-02-29T14:14:53.031173Z",
     "iopub.status.idle": "2024-02-29T14:14:53.038050Z",
     "shell.execute_reply": "2024-02-29T14:14:53.037212Z"
    },
    "papermill": {
     "duration": 0.037078,
     "end_time": "2024-02-29T14:14:53.040294",
     "exception": false,
     "start_time": "2024-02-29T14:14:53.003216",
     "status": "completed"
    },
    "tags": []
   },
   "outputs": [],
   "source": [
    "X_train,X_test,y_train,y_test=train_test_split(X, y, test_size=0.2, random_state=42)"
   ]
  },
  {
   "cell_type": "markdown",
   "id": "7685fe7a",
   "metadata": {
    "papermill": {
     "duration": 0.027018,
     "end_time": "2024-02-29T14:14:53.093741",
     "exception": false,
     "start_time": "2024-02-29T14:14:53.066723",
     "status": "completed"
    },
    "tags": []
   },
   "source": [
    "<a id=\"xg\"></a>\n",
    "##  ***8.2 : XGBClassifier***"
   ]
  },
  {
   "cell_type": "code",
   "execution_count": 44,
   "id": "d26cd5b0",
   "metadata": {
    "execution": {
     "iopub.execute_input": "2024-02-29T14:14:53.148224Z",
     "iopub.status.busy": "2024-02-29T14:14:53.147540Z",
     "iopub.status.idle": "2024-02-29T14:14:57.941538Z",
     "shell.execute_reply": "2024-02-29T14:14:57.940354Z"
    },
    "papermill": {
     "duration": 4.824272,
     "end_time": "2024-02-29T14:14:57.944117",
     "exception": false,
     "start_time": "2024-02-29T14:14:53.119845",
     "status": "completed"
    },
    "tags": []
   },
   "outputs": [
    {
     "name": "stdout",
     "output_type": "stream",
     "text": [
      "Best XGBClassifier Model:\n",
      "Test Accuracy: 0.8581560283687943\n",
      "F1 Score: 0.803921568627451\n",
      "Precision Score: 0.8723404255319149\n",
      "------------------------------------------\n",
      "Confusion Matrix: [[80  6]\n",
      " [14 41]]\n"
     ]
    }
   ],
   "source": [
    "from xgboost import XGBClassifier\n",
    "from sklearn.model_selection import GridSearchCV\n",
    "from sklearn.preprocessing import StandardScaler\n",
    "from sklearn.pipeline import Pipeline\n",
    "from sklearn.metrics import confusion_matrix, f1_score, precision_score, accuracy_score\n",
    "\n",
    "# Define the pipeline with a scaler and the random forest classifier\n",
    "pipeline = Pipeline([\n",
    "    ('scaler', MinMaxScaler()),\n",
    "    ('classifier', XGBClassifier(random_state=42))\n",
    "])\n",
    "\n",
    "# Define the hyperparameters for grid search\n",
    "params = {\n",
    "    'classifier__n_estimators': [100, 200, 300],\n",
    "    'classifier__learning_rate': [0.05, 0.1, 0.5]\n",
    "}\n",
    "\n",
    "# Perform grid search using the pipeline and parameters\n",
    "clf = GridSearchCV(pipeline, params, cv=5)\n",
    "clf.fit(X_train, y_train)\n",
    "\n",
    "# Get the best model and its parameters\n",
    "best_model = clf.best_estimator_\n",
    "best_model.fit(X_train, y_train)\n",
    "y_pred_best = best_model.predict(X_test)\n",
    "accuracy_best = accuracy_score(y_test, y_pred_best)\n",
    "conf_matrix = confusion_matrix(y_test, y_pred_best)\n",
    "f1 = f1_score(y_test, y_pred_best)\n",
    "precision = precision_score(y_test, y_pred_best)\n",
    "\n",
    "# Print the results\n",
    "print(\"Best XGBClassifier Model:\")\n",
    "print(\"Test Accuracy:\", accuracy_best)\n",
    "print(\"F1 Score:\", f1)\n",
    "print(\"Precision Score:\", precision)\n",
    "print(\"------------------------------------------\")\n",
    "print(\"Confusion Matrix:\",conf_matrix)"
   ]
  },
  {
   "cell_type": "code",
   "execution_count": 45,
   "id": "1237d644",
   "metadata": {
    "execution": {
     "iopub.execute_input": "2024-02-29T14:14:57.999107Z",
     "iopub.status.busy": "2024-02-29T14:14:57.998709Z",
     "iopub.status.idle": "2024-02-29T14:14:58.354003Z",
     "shell.execute_reply": "2024-02-29T14:14:58.352903Z"
    },
    "papermill": {
     "duration": 0.385815,
     "end_time": "2024-02-29T14:14:58.356651",
     "exception": false,
     "start_time": "2024-02-29T14:14:57.970836",
     "status": "completed"
    },
    "tags": []
   },
   "outputs": [
    {
     "data": {
      "image/png": "[encoded data removed]",
      "text/plain": [
       "<Figure size 800x600 with 2 Axes>"
      ]
     },
     "metadata": {},
     "output_type": "display_data"
    }
   ],
   "source": [
    "# make confusion plot for best model\n",
    "plt.figure(figsize=(8, 6))\n",
    "sns.heatmap(conf_matrix, annot=True, cmap='Blues', fmt='g')\n",
    "plt.title('Confusion Matrix')\n",
    "plt.xlabel('Predicted Labels')\n",
    "plt.ylabel('True Labels')\n",
    "plt.show()"
   ]
  },
  {
   "cell_type": "markdown",
   "id": "ad9c1b2d",
   "metadata": {
    "papermill": {
     "duration": 0.028389,
     "end_time": "2024-02-29T14:14:58.413953",
     "exception": false,
     "start_time": "2024-02-29T14:14:58.385564",
     "status": "completed"
    },
    "tags": []
   },
   "source": [
    "<a id=\"random\"></a>\n",
    "## ***8.3 : RandomForestClassifier***"
   ]
  },
  {
   "cell_type": "code",
   "execution_count": 46,
   "id": "a6e2fe9f",
   "metadata": {
    "execution": {
     "iopub.execute_input": "2024-02-29T14:14:58.472742Z",
     "iopub.status.busy": "2024-02-29T14:14:58.471843Z",
     "iopub.status.idle": "2024-02-29T14:15:17.135060Z",
     "shell.execute_reply": "2024-02-29T14:15:17.133821Z"
    },
    "papermill": {
     "duration": 18.694461,
     "end_time": "2024-02-29T14:15:17.137380",
     "exception": false,
     "start_time": "2024-02-29T14:14:58.442919",
     "status": "completed"
    },
    "tags": []
   },
   "outputs": [
    {
     "name": "stdout",
     "output_type": "stream",
     "text": [
      "Best Random Forest Model:\n",
      "Test Accuracy: 0.8297872340425532\n",
      "F1 Score: 0.7599999999999999\n",
      "Precision Score: 0.8444444444444444\n",
      "------------------------------------------\n",
      "Confusion Matrix: [[79  7]\n",
      " [17 38]]\n"
     ]
    }
   ],
   "source": [
    "from sklearn.ensemble import RandomForestClassifier\n",
    "from sklearn.model_selection import GridSearchCV\n",
    "from sklearn.preprocessing import StandardScaler\n",
    "from sklearn.pipeline import Pipeline\n",
    "from sklearn.metrics import confusion_matrix, f1_score, precision_score, accuracy_score\n",
    "\n",
    "# Define the pipeline with a scaler and the random forest classifier\n",
    "pipeline = Pipeline([\n",
    "    ('scaler', MinMaxScaler()),\n",
    "    ('classifier', RandomForestClassifier(random_state=42))\n",
    "])\n",
    "\n",
    "# Define the hyperparameters for grid search\n",
    "params = {\n",
    "    'classifier__n_estimators': [100, 200, 300],\n",
    "    'classifier__max_depth': [10, 20, 30]\n",
    "}\n",
    "\n",
    "# Perform grid search using the pipeline and parameters\n",
    "clf = GridSearchCV(pipeline, params, cv=5)\n",
    "clf.fit(X_train, y_train)\n",
    "\n",
    "# Get the best model and its parameters\n",
    "best_model = clf.best_estimator_\n",
    "best_model.fit(X_train, y_train)\n",
    "y_pred_best = best_model.predict(X_test)\n",
    "accuracy_best = accuracy_score(y_test, y_pred_best)\n",
    "conf_matrix = confusion_matrix(y_test, y_pred_best)\n",
    "f1 = f1_score(y_test, y_pred_best)\n",
    "precision = precision_score(y_test, y_pred_best)\n",
    "\n",
    "# Print the results\n",
    "print(\"Best Random Forest Model:\")\n",
    "print(\"Test Accuracy:\", accuracy_best)\n",
    "print(\"F1 Score:\", f1)\n",
    "print(\"Precision Score:\", precision)\n",
    "print(\"------------------------------------------\")\n",
    "print(\"Confusion Matrix:\",conf_matrix)\n",
    "\n"
   ]
  },
  {
   "cell_type": "code",
   "execution_count": 47,
   "id": "600dd24e",
   "metadata": {
    "execution": {
     "iopub.execute_input": "2024-02-29T14:15:17.195798Z",
     "iopub.status.busy": "2024-02-29T14:15:17.194690Z",
     "iopub.status.idle": "2024-02-29T14:15:17.436569Z",
     "shell.execute_reply": "2024-02-29T14:15:17.435263Z"
    },
    "papermill": {
     "duration": 0.273554,
     "end_time": "2024-02-29T14:15:17.438828",
     "exception": false,
     "start_time": "2024-02-29T14:15:17.165274",
     "status": "completed"
    },
    "tags": []
   },
   "outputs": [
    {
     "data": {
      "image/png": "[encoded data removed]",
      "text/plain": [
       "<Figure size 800x600 with 2 Axes>"
      ]
     },
     "metadata": {},
     "output_type": "display_data"
    }
   ],
   "source": [
    "# create confusion plot for best model\n",
    "plt.figure(figsize=(8, 6))\n",
    "sns.heatmap(conf_matrix, annot=True, cmap='Blues', fmt='g')\n",
    "plt.title('Confusion Matrix')\n",
    "plt.xlabel('Predicted Labels')\n",
    "plt.ylabel('True Labels')\n",
    "plt.show()"
   ]
  },
  {
   "cell_type": "markdown",
   "id": "eafc3861",
   "metadata": {
    "papermill": {
     "duration": 0.028222,
     "end_time": "2024-02-29T14:15:17.495587",
     "exception": false,
     "start_time": "2024-02-29T14:15:17.467365",
     "status": "completed"
    },
    "tags": []
   },
   "source": [
    "<a id=\"deep\"></a>\n",
    "\n",
    "<span style=\"color: red; font-size: 250%; font-weight: bold;\">Step 9 | Deep Learning</span>\n"
   ]
  },
  {
   "cell_type": "markdown",
   "id": "3aec390e",
   "metadata": {
    "papermill": {
     "duration": 0.02849,
     "end_time": "2024-02-29T14:15:17.553252",
     "exception": false,
     "start_time": "2024-02-29T14:15:17.524762",
     "status": "completed"
    },
    "tags": []
   },
   "source": [
    "## ***9.1 : Neural Network by TensorFlow***"
   ]
  },
  {
   "cell_type": "code",
   "execution_count": 48,
   "id": "02a7353d",
   "metadata": {
    "execution": {
     "iopub.execute_input": "2024-02-29T14:15:17.613815Z",
     "iopub.status.busy": "2024-02-29T14:15:17.613389Z",
     "iopub.status.idle": "2024-02-29T14:15:41.894559Z",
     "shell.execute_reply": "2024-02-29T14:15:41.893304Z"
    },
    "papermill": {
     "duration": 24.315188,
     "end_time": "2024-02-29T14:15:41.897133",
     "exception": false,
     "start_time": "2024-02-29T14:15:17.581945",
     "status": "completed"
    },
    "tags": []
   },
   "outputs": [
    {
     "name": "stderr",
     "output_type": "stream",
     "text": [
      "2024-02-29 14:15:19.855789: E external/local_xla/xla/stream_executor/cuda/cuda_dnn.cc:9261] Unable to register cuDNN factory: Attempting to register factory for plugin cuDNN when one has already been registered\n",
      "2024-02-29 14:15:19.855911: E external/local_xla/xla/stream_executor/cuda/cuda_fft.cc:607] Unable to register cuFFT factory: Attempting to register factory for plugin cuFFT when one has already been registered\n",
      "2024-02-29 14:15:20.030021: E external/local_xla/xla/stream_executor/cuda/cuda_blas.cc:1515] Unable to register cuBLAS factory: Attempting to register factory for plugin cuBLAS when one has already been registered\n"
     ]
    },
    {
     "name": "stdout",
     "output_type": "stream",
     "text": [
      "Epoch 1/100\n",
      "\u001b[1m18/18\u001b[0m \u001b[32m━━━━━━━━━━━━━━━━━━━━\u001b[0m\u001b[37m\u001b[0m \u001b[1m2s\u001b[0m 15ms/step - accuracy: 0.4053 - loss: 1.2688 - val_accuracy: 0.3901 - val_loss: 0.7224\n",
      "Epoch 2/100\n",
      "\u001b[1m18/18\u001b[0m \u001b[32m━━━━━━━━━━━━━━━━━━━━\u001b[0m\u001b[37m\u001b[0m \u001b[1m0s\u001b[0m 4ms/step - accuracy: 0.4344 - loss: 0.6957 - val_accuracy: 0.6525 - val_loss: 0.6817\n",
      "Epoch 3/100\n",
      "\u001b[1m18/18\u001b[0m \u001b[32m━━━━━━━━━━━━━━━━━━━━\u001b[0m\u001b[37m\u001b[0m \u001b[1m0s\u001b[0m 4ms/step - accuracy: 0.6783 - loss: 0.6613 - val_accuracy: 0.6241 - val_loss: 0.6642\n",
      "Epoch 4/100\n",
      "\u001b[1m18/18\u001b[0m \u001b[32m━━━━━━━━━━━━━━━━━━━━\u001b[0m\u001b[37m\u001b[0m \u001b[1m0s\u001b[0m 4ms/step - accuracy: 0.6995 - loss: 0.6457 - val_accuracy: 0.5674 - val_loss: 0.6520\n",
      "Epoch 5/100\n",
      "\u001b[1m18/18\u001b[0m \u001b[32m━━━━━━━━━━━━━━━━━━━━\u001b[0m\u001b[37m\u001b[0m \u001b[1m0s\u001b[0m 5ms/step - accuracy: 0.7031 - loss: 0.6241 - val_accuracy: 0.5887 - val_loss: 0.6425\n",
      "Epoch 6/100\n",
      "\u001b[1m18/18\u001b[0m \u001b[32m━━━━━━━━━━━━━━━━━━━━\u001b[0m\u001b[37m\u001b[0m \u001b[1m0s\u001b[0m 4ms/step - accuracy: 0.7006 - loss: 0.6148 - val_accuracy: 0.5957 - val_loss: 0.6386\n",
      "Epoch 7/100\n",
      "\u001b[1m18/18\u001b[0m \u001b[32m━━━━━━━━━━━━━━━━━━━━\u001b[0m\u001b[37m\u001b[0m \u001b[1m0s\u001b[0m 5ms/step - accuracy: 0.6895 - loss: 0.6196 - val_accuracy: 0.5957 - val_loss: 0.6342\n",
      "Epoch 8/100\n",
      "\u001b[1m18/18\u001b[0m \u001b[32m━━━━━━━━━━━━━━━━━━━━\u001b[0m\u001b[37m\u001b[0m \u001b[1m0s\u001b[0m 4ms/step - accuracy: 0.6865 - loss: 0.6105 - val_accuracy: 0.6099 - val_loss: 0.6366\n",
      "Epoch 9/100\n",
      "\u001b[1m18/18\u001b[0m \u001b[32m━━━━━━━━━━━━━━━━━━━━\u001b[0m\u001b[37m\u001b[0m \u001b[1m0s\u001b[0m 4ms/step - accuracy: 0.6826 - loss: 0.6137 - val_accuracy: 0.6099 - val_loss: 0.6317\n",
      "Epoch 10/100\n",
      "\u001b[1m18/18\u001b[0m \u001b[32m━━━━━━━━━━━━━━━━━━━━\u001b[0m\u001b[37m\u001b[0m \u001b[1m0s\u001b[0m 4ms/step - accuracy: 0.6947 - loss: 0.6074 - val_accuracy: 0.6028 - val_loss: 0.6338\n",
      "Epoch 11/100\n",
      "\u001b[1m18/18\u001b[0m \u001b[32m━━━━━━━━━━━━━━━━━━━━\u001b[0m\u001b[37m\u001b[0m \u001b[1m0s\u001b[0m 4ms/step - accuracy: 0.6939 - loss: 0.5963 - val_accuracy: 0.6099 - val_loss: 0.6317\n",
      "Epoch 12/100\n",
      "\u001b[1m18/18\u001b[0m \u001b[32m━━━━━━━━━━━━━━━━━━━━\u001b[0m\u001b[37m\u001b[0m \u001b[1m0s\u001b[0m 4ms/step - accuracy: 0.7081 - loss: 0.6007 - val_accuracy: 0.6170 - val_loss: 0.6307\n",
      "Epoch 13/100\n",
      "\u001b[1m18/18\u001b[0m \u001b[32m━━━━━━━━━━━━━━━━━━━━\u001b[0m\u001b[37m\u001b[0m \u001b[1m0s\u001b[0m 3ms/step - accuracy: 0.7146 - loss: 0.5857 - val_accuracy: 0.6099 - val_loss: 0.6318\n",
      "Epoch 14/100\n",
      "\u001b[1m18/18\u001b[0m \u001b[32m━━━━━━━━━━━━━━━━━━━━\u001b[0m\u001b[37m\u001b[0m \u001b[1m0s\u001b[0m 5ms/step - accuracy: 0.7142 - loss: 0.5966 - val_accuracy: 0.6099 - val_loss: 0.6287\n",
      "Epoch 15/100\n",
      "\u001b[1m18/18\u001b[0m \u001b[32m━━━━━━━━━━━━━━━━━━━━\u001b[0m\u001b[37m\u001b[0m \u001b[1m0s\u001b[0m 4ms/step - accuracy: 0.6979 - loss: 0.5830 - val_accuracy: 0.6099 - val_loss: 0.6288\n",
      "Epoch 16/100\n",
      "\u001b[1m18/18\u001b[0m \u001b[32m━━━━━━━━━━━━━━━━━━━━\u001b[0m\u001b[37m\u001b[0m \u001b[1m0s\u001b[0m 4ms/step - accuracy: 0.6960 - loss: 0.5943 - val_accuracy: 0.6170 - val_loss: 0.6248\n",
      "Epoch 17/100\n",
      "\u001b[1m18/18\u001b[0m \u001b[32m━━━━━━━━━━━━━━━━━━━━\u001b[0m\u001b[37m\u001b[0m \u001b[1m0s\u001b[0m 4ms/step - accuracy: 0.6693 - loss: 0.6084 - val_accuracy: 0.6170 - val_loss: 0.6239\n",
      "Epoch 18/100\n",
      "\u001b[1m18/18\u001b[0m \u001b[32m━━━━━━━━━━━━━━━━━━━━\u001b[0m\u001b[37m\u001b[0m \u001b[1m0s\u001b[0m 4ms/step - accuracy: 0.7220 - loss: 0.5783 - val_accuracy: 0.6170 - val_loss: 0.6261\n",
      "Epoch 19/100\n",
      "\u001b[1m18/18\u001b[0m \u001b[32m━━━━━━━━━━━━━━━━━━━━\u001b[0m\u001b[37m\u001b[0m \u001b[1m0s\u001b[0m 4ms/step - accuracy: 0.7250 - loss: 0.5703 - val_accuracy: 0.6170 - val_loss: 0.6234\n",
      "Epoch 20/100\n",
      "\u001b[1m18/18\u001b[0m \u001b[32m━━━━━━━━━━━━━━━━━━━━\u001b[0m\u001b[37m\u001b[0m \u001b[1m0s\u001b[0m 4ms/step - accuracy: 0.7103 - loss: 0.5721 - val_accuracy: 0.6170 - val_loss: 0.6229\n",
      "Epoch 21/100\n",
      "\u001b[1m18/18\u001b[0m \u001b[32m━━━━━━━━━━━━━━━━━━━━\u001b[0m\u001b[37m\u001b[0m \u001b[1m0s\u001b[0m 4ms/step - accuracy: 0.6990 - loss: 0.5865 - val_accuracy: 0.6241 - val_loss: 0.6225\n",
      "Epoch 22/100\n",
      "\u001b[1m18/18\u001b[0m \u001b[32m━━━━━━━━━━━━━━━━━━━━\u001b[0m\u001b[37m\u001b[0m \u001b[1m0s\u001b[0m 4ms/step - accuracy: 0.6865 - loss: 0.6072 - val_accuracy: 0.6241 - val_loss: 0.6211\n",
      "Epoch 23/100\n",
      "\u001b[1m18/18\u001b[0m \u001b[32m━━━━━━━━━━━━━━━━━━━━\u001b[0m\u001b[37m\u001b[0m \u001b[1m0s\u001b[0m 4ms/step - accuracy: 0.7125 - loss: 0.5841 - val_accuracy: 0.6241 - val_loss: 0.6214\n",
      "Epoch 24/100\n",
      "\u001b[1m18/18\u001b[0m \u001b[32m━━━━━━━━━━━━━━━━━━━━\u001b[0m\u001b[37m\u001b[0m \u001b[1m0s\u001b[0m 4ms/step - accuracy: 0.6886 - loss: 0.5893 - val_accuracy: 0.6241 - val_loss: 0.6156\n",
      "Epoch 25/100\n",
      "\u001b[1m18/18\u001b[0m \u001b[32m━━━━━━━━━━━━━━━━━━━━\u001b[0m\u001b[37m\u001b[0m \u001b[1m0s\u001b[0m 4ms/step - accuracy: 0.7056 - loss: 0.5857 - val_accuracy: 0.6170 - val_loss: 0.6209\n",
      "Epoch 26/100\n",
      "\u001b[1m18/18\u001b[0m \u001b[32m━━━━━━━━━━━━━━━━━━━━\u001b[0m\u001b[37m\u001b[0m \u001b[1m0s\u001b[0m 4ms/step - accuracy: 0.6878 - loss: 0.5886 - val_accuracy: 0.6241 - val_loss: 0.6131\n",
      "Epoch 27/100\n",
      "\u001b[1m18/18\u001b[0m \u001b[32m━━━━━━━━━━━━━━━━━━━━\u001b[0m\u001b[37m\u001b[0m \u001b[1m0s\u001b[0m 4ms/step - accuracy: 0.7202 - loss: 0.5639 - val_accuracy: 0.6241 - val_loss: 0.6162\n",
      "Epoch 28/100\n",
      "\u001b[1m18/18\u001b[0m \u001b[32m━━━━━━━━━━━━━━━━━━━━\u001b[0m\u001b[37m\u001b[0m \u001b[1m0s\u001b[0m 4ms/step - accuracy: 0.7127 - loss: 0.5817 - val_accuracy: 0.6454 - val_loss: 0.6083\n",
      "Epoch 29/100\n",
      "\u001b[1m18/18\u001b[0m \u001b[32m━━━━━━━━━━━━━━━━━━━━\u001b[0m\u001b[37m\u001b[0m \u001b[1m0s\u001b[0m 4ms/step - accuracy: 0.7042 - loss: 0.5652 - val_accuracy: 0.6383 - val_loss: 0.6084\n",
      "Epoch 30/100\n",
      "\u001b[1m18/18\u001b[0m \u001b[32m━━━━━━━━━━━━━━━━━━━━\u001b[0m\u001b[37m\u001b[0m \u001b[1m0s\u001b[0m 4ms/step - accuracy: 0.6963 - loss: 0.5842 - val_accuracy: 0.6525 - val_loss: 0.6032\n",
      "Epoch 31/100\n",
      "\u001b[1m18/18\u001b[0m \u001b[32m━━━━━━━━━━━━━━━━━━━━\u001b[0m\u001b[37m\u001b[0m \u001b[1m0s\u001b[0m 3ms/step - accuracy: 0.6937 - loss: 0.5788 - val_accuracy: 0.6667 - val_loss: 0.6079\n",
      "Epoch 32/100\n",
      "\u001b[1m18/18\u001b[0m \u001b[32m━━━━━━━━━━━━━━━━━━━━\u001b[0m\u001b[37m\u001b[0m \u001b[1m0s\u001b[0m 4ms/step - accuracy: 0.7128 - loss: 0.5893 - val_accuracy: 0.6525 - val_loss: 0.5983\n",
      "Epoch 33/100\n",
      "\u001b[1m18/18\u001b[0m \u001b[32m━━━━━━━━━━━━━━━━━━━━\u001b[0m\u001b[37m\u001b[0m \u001b[1m0s\u001b[0m 4ms/step - accuracy: 0.7244 - loss: 0.5755 - val_accuracy: 0.6596 - val_loss: 0.5957\n",
      "Epoch 34/100\n",
      "\u001b[1m18/18\u001b[0m \u001b[32m━━━━━━━━━━━━━━━━━━━━\u001b[0m\u001b[37m\u001b[0m \u001b[1m0s\u001b[0m 4ms/step - accuracy: 0.7363 - loss: 0.5488 - val_accuracy: 0.6667 - val_loss: 0.5799\n",
      "Epoch 35/100\n",
      "\u001b[1m18/18\u001b[0m \u001b[32m━━━━━━━━━━━━━━━━━━━━\u001b[0m\u001b[37m\u001b[0m \u001b[1m0s\u001b[0m 4ms/step - accuracy: 0.7352 - loss: 0.5611 - val_accuracy: 0.6596 - val_loss: 0.5852\n",
      "Epoch 36/100\n",
      "\u001b[1m18/18\u001b[0m \u001b[32m━━━━━━━━━━━━━━━━━━━━\u001b[0m\u001b[37m\u001b[0m \u001b[1m0s\u001b[0m 4ms/step - accuracy: 0.7076 - loss: 0.5664 - val_accuracy: 0.6667 - val_loss: 0.5705\n",
      "Epoch 37/100\n",
      "\u001b[1m18/18\u001b[0m \u001b[32m━━━━━━━━━━━━━━━━━━━━\u001b[0m\u001b[37m\u001b[0m \u001b[1m0s\u001b[0m 3ms/step - accuracy: 0.7240 - loss: 0.5518 - val_accuracy: 0.6879 - val_loss: 0.5752\n",
      "Epoch 38/100\n",
      "\u001b[1m18/18\u001b[0m \u001b[32m━━━━━━━━━━━━━━━━━━━━\u001b[0m\u001b[37m\u001b[0m \u001b[1m0s\u001b[0m 4ms/step - accuracy: 0.7448 - loss: 0.5349 - val_accuracy: 0.6879 - val_loss: 0.5659\n",
      "Epoch 39/100\n",
      "\u001b[1m18/18\u001b[0m \u001b[32m━━━━━━━━━━━━━━━━━━━━\u001b[0m\u001b[37m\u001b[0m \u001b[1m0s\u001b[0m 4ms/step - accuracy: 0.6929 - loss: 0.5689 - val_accuracy: 0.6809 - val_loss: 0.5628\n",
      "Epoch 40/100\n",
      "\u001b[1m18/18\u001b[0m \u001b[32m━━━━━━━━━━━━━━━━━━━━\u001b[0m\u001b[37m\u001b[0m \u001b[1m0s\u001b[0m 4ms/step - accuracy: 0.7683 - loss: 0.5228 - val_accuracy: 0.6809 - val_loss: 0.5545\n",
      "Epoch 41/100\n",
      "\u001b[1m18/18\u001b[0m \u001b[32m━━━━━━━━━━━━━━━━━━━━\u001b[0m\u001b[37m\u001b[0m \u001b[1m0s\u001b[0m 5ms/step - accuracy: 0.7242 - loss: 0.5421 - val_accuracy: 0.6950 - val_loss: 0.5448\n",
      "Epoch 42/100\n",
      "\u001b[1m18/18\u001b[0m \u001b[32m━━━━━━━━━━━━━━━━━━━━\u001b[0m\u001b[37m\u001b[0m \u001b[1m0s\u001b[0m 5ms/step - accuracy: 0.6970 - loss: 0.5602 - val_accuracy: 0.7092 - val_loss: 0.5436\n",
      "Epoch 43/100\n",
      "\u001b[1m18/18\u001b[0m \u001b[32m━━━━━━━━━━━━━━━━━━━━\u001b[0m\u001b[37m\u001b[0m \u001b[1m0s\u001b[0m 4ms/step - accuracy: 0.7456 - loss: 0.5131 - val_accuracy: 0.7730 - val_loss: 0.5611\n",
      "Epoch 44/100\n",
      "\u001b[1m18/18\u001b[0m \u001b[32m━━━━━━━━━━━━━━━━━━━━\u001b[0m\u001b[37m\u001b[0m \u001b[1m0s\u001b[0m 4ms/step - accuracy: 0.7547 - loss: 0.5118 - val_accuracy: 0.7234 - val_loss: 0.5089\n",
      "Epoch 45/100\n",
      "\u001b[1m18/18\u001b[0m \u001b[32m━━━━━━━━━━━━━━━━━━━━\u001b[0m\u001b[37m\u001b[0m \u001b[1m0s\u001b[0m 5ms/step - accuracy: 0.7437 - loss: 0.5168 - val_accuracy: 0.6950 - val_loss: 0.5520\n",
      "Epoch 46/100\n",
      "\u001b[1m18/18\u001b[0m \u001b[32m━━━━━━━━━━━━━━━━━━━━\u001b[0m\u001b[37m\u001b[0m \u001b[1m0s\u001b[0m 5ms/step - accuracy: 0.7336 - loss: 0.5371 - val_accuracy: 0.7163 - val_loss: 0.5241\n",
      "Epoch 47/100\n",
      "\u001b[1m18/18\u001b[0m \u001b[32m━━━━━━━━━━━━━━━━━━━━\u001b[0m\u001b[37m\u001b[0m \u001b[1m0s\u001b[0m 4ms/step - accuracy: 0.7639 - loss: 0.5140 - val_accuracy: 0.7730 - val_loss: 0.4958\n",
      "Epoch 48/100\n",
      "\u001b[1m18/18\u001b[0m \u001b[32m━━━━━━━━━━━━━━━━━━━━\u001b[0m\u001b[37m\u001b[0m \u001b[1m0s\u001b[0m 4ms/step - accuracy: 0.7792 - loss: 0.4957 - val_accuracy: 0.7660 - val_loss: 0.5020\n",
      "Epoch 49/100\n",
      "\u001b[1m18/18\u001b[0m \u001b[32m━━━━━━━━━━━━━━━━━━━━\u001b[0m\u001b[37m\u001b[0m \u001b[1m0s\u001b[0m 4ms/step - accuracy: 0.7680 - loss: 0.4784 - val_accuracy: 0.7872 - val_loss: 0.4780\n",
      "Epoch 50/100\n",
      "\u001b[1m18/18\u001b[0m \u001b[32m━━━━━━━━━━━━━━━━━━━━\u001b[0m\u001b[37m\u001b[0m \u001b[1m0s\u001b[0m 5ms/step - accuracy: 0.8043 - loss: 0.4690 - val_accuracy: 0.7660 - val_loss: 0.5111\n",
      "Epoch 51/100\n",
      "\u001b[1m18/18\u001b[0m \u001b[32m━━━━━━━━━━━━━━━━━━━━\u001b[0m\u001b[37m\u001b[0m \u001b[1m0s\u001b[0m 4ms/step - accuracy: 0.7974 - loss: 0.4726 - val_accuracy: 0.7589 - val_loss: 0.4859\n",
      "Epoch 52/100\n",
      "\u001b[1m18/18\u001b[0m \u001b[32m━━━━━━━━━━━━━━━━━━━━\u001b[0m\u001b[37m\u001b[0m \u001b[1m0s\u001b[0m 4ms/step - accuracy: 0.7981 - loss: 0.4640 - val_accuracy: 0.7801 - val_loss: 0.4702\n",
      "Epoch 53/100\n",
      "\u001b[1m18/18\u001b[0m \u001b[32m━━━━━━━━━━━━━━━━━━━━\u001b[0m\u001b[37m\u001b[0m \u001b[1m0s\u001b[0m 4ms/step - accuracy: 0.7966 - loss: 0.4812 - val_accuracy: 0.7801 - val_loss: 0.4867\n",
      "Epoch 54/100\n",
      "\u001b[1m18/18\u001b[0m \u001b[32m━━━━━━━━━━━━━━━━━━━━\u001b[0m\u001b[37m\u001b[0m \u001b[1m0s\u001b[0m 4ms/step - accuracy: 0.7725 - loss: 0.5125 - val_accuracy: 0.7589 - val_loss: 0.4985\n",
      "Epoch 55/100\n",
      "\u001b[1m18/18\u001b[0m \u001b[32m━━━━━━━━━━━━━━━━━━━━\u001b[0m\u001b[37m\u001b[0m \u001b[1m0s\u001b[0m 3ms/step - accuracy: 0.7459 - loss: 0.5440 - val_accuracy: 0.7872 - val_loss: 0.4776\n",
      "Epoch 56/100\n",
      "\u001b[1m18/18\u001b[0m \u001b[32m━━━━━━━━━━━━━━━━━━━━\u001b[0m\u001b[37m\u001b[0m \u001b[1m0s\u001b[0m 4ms/step - accuracy: 0.7864 - loss: 0.4830 - val_accuracy: 0.7943 - val_loss: 0.4550\n",
      "Epoch 57/100\n",
      "\u001b[1m18/18\u001b[0m \u001b[32m━━━━━━━━━━━━━━━━━━━━\u001b[0m\u001b[37m\u001b[0m \u001b[1m0s\u001b[0m 5ms/step - accuracy: 0.8262 - loss: 0.4744 - val_accuracy: 0.7589 - val_loss: 0.5156\n",
      "Epoch 58/100\n",
      "\u001b[1m18/18\u001b[0m \u001b[32m━━━━━━━━━━━━━━━━━━━━\u001b[0m\u001b[37m\u001b[0m \u001b[1m0s\u001b[0m 4ms/step - accuracy: 0.7902 - loss: 0.4488 - val_accuracy: 0.7518 - val_loss: 0.5140\n",
      "Epoch 59/100\n",
      "\u001b[1m18/18\u001b[0m \u001b[32m━━━━━━━━━━━━━━━━━━━━\u001b[0m\u001b[37m\u001b[0m \u001b[1m0s\u001b[0m 4ms/step - accuracy: 0.8256 - loss: 0.4305 - val_accuracy: 0.8298 - val_loss: 0.4695\n",
      "Epoch 60/100\n",
      "\u001b[1m18/18\u001b[0m \u001b[32m━━━━━━━━━━━━━━━━━━━━\u001b[0m\u001b[37m\u001b[0m \u001b[1m0s\u001b[0m 4ms/step - accuracy: 0.7550 - loss: 0.5379 - val_accuracy: 0.7872 - val_loss: 0.4888\n",
      "Epoch 61/100\n",
      "\u001b[1m18/18\u001b[0m \u001b[32m━━━━━━━━━━━━━━━━━━━━\u001b[0m\u001b[37m\u001b[0m \u001b[1m0s\u001b[0m 4ms/step - accuracy: 0.7764 - loss: 0.4674 - val_accuracy: 0.7660 - val_loss: 0.4621\n",
      "\u001b[1m5/5\u001b[0m \u001b[32m━━━━━━━━━━━━━━━━━━━━\u001b[0m\u001b[37m\u001b[0m \u001b[1m0s\u001b[0m 2ms/step - accuracy: 0.7323 - loss: 0.4948 \n",
      "Test Accuracy: 76.60%\n",
      "Test Loss: 0.46\n"
     ]
    },
    {
     "data": {
      "image/png": "[encoded data removed]",
      "text/plain": [
       "<Figure size 640x480 with 1 Axes>"
      ]
     },
     "metadata": {},
     "output_type": "display_data"
    },
    {
     "data": {
      "image/png": "[encoded data removed]",
      "text/plain": [
       "<Figure size 640x480 with 1 Axes>"
      ]
     },
     "metadata": {},
     "output_type": "display_data"
    }
   ],
   "source": [
    "import tensorflow as tf\n",
    "import matplotlib.pyplot as plt\n",
    "\n",
    "# Assuming X_train, X_test, y_train, y_test are defined\n",
    "\n",
    "model=tf.keras.Sequential([\n",
    "    tf.keras.layers.Dense(64,activation='relu',input_shape=(X_train.shape[1],)),# input layer\n",
    "    tf.keras.layers.Dense(32,activation='relu'),# hidden layer\n",
    "    tf.keras.layers.Dense(16,activation='relu'),# hidden layer\n",
    "    tf.keras.layers.Dense(8,activation='relu'),# hidden layer\n",
    "    tf.keras.layers.Dense(1,activation='sigmoid')# output layer\n",
    "])\n",
    "\n",
    "# callback function\n",
    "earlystop=tf.keras.callbacks.EarlyStopping(patience=5)\n",
    "\n",
    "# compile the model\n",
    "model.compile(optimizer='adam', loss='binary_crossentropy', metrics=['accuracy'])\n",
    "\n",
    "# fit the model\n",
    "history=model.fit(X_train, y_train, epochs=100, batch_size=32, verbose=1,validation_data=(X_test,y_test), callbacks=[earlystop])\n",
    "\n",
    "# evaluate the model\n",
    "loss , accuracy = model.evaluate(X_test, y_test)\n",
    "\n",
    "# print the accuracy\n",
    "print(\"Test Accuracy: {:.2f}%\".format(accuracy*100))\n",
    "\n",
    "# print the loss\n",
    "print(\"Test Loss: {:.2f}\".format(loss))\n",
    "\n",
    "# plot the accuracy\n",
    "plt.plot(history.history['accuracy'])\n",
    "plt.plot(history.history['val_accuracy'])\n",
    "plt.title('Model Accuracy')\n",
    "plt.ylabel('Accuracy')\n",
    "plt.xlabel('Epoch')\n",
    "plt.legend(['Train', 'Validation'], loc='upper left')\n",
    "plt.show()\n",
    "\n",
    "# plot the loss \n",
    "plt.plot(history.history['loss'])\n",
    "plt.plot(history.history['val_loss'])\n",
    "plt.title('Model Loss')\n",
    "plt.ylabel('Loss')\n",
    "plt.xlabel('Epoch')\n",
    "plt.legend(['Train', 'Validation'], loc='upper right')\n",
    "plt.show()\n"
   ]
  },
  {
   "cell_type": "markdown",
   "id": "52bbb942",
   "metadata": {
    "papermill": {
     "duration": 0.043216,
     "end_time": "2024-02-29T14:15:41.983373",
     "exception": false,
     "start_time": "2024-02-29T14:15:41.940157",
     "status": "completed"
    },
    "tags": []
   },
   "source": [
    "<a id=\"submission\"></a>\n",
    "\n",
    "<span style=\"color: red; font-size: 250%; font-weight: bold;\">Step 10 | Submission</span>\n"
   ]
  },
  {
   "cell_type": "code",
   "execution_count": 49,
   "id": "1b453061",
   "metadata": {
    "execution": {
     "iopub.execute_input": "2024-02-29T14:15:42.073565Z",
     "iopub.status.busy": "2024-02-29T14:15:42.072890Z",
     "iopub.status.idle": "2024-02-29T14:15:42.116801Z",
     "shell.execute_reply": "2024-02-29T14:15:42.115529Z"
    },
    "papermill": {
     "duration": 0.092984,
     "end_time": "2024-02-29T14:15:42.119618",
     "exception": false,
     "start_time": "2024-02-29T14:15:42.026634",
     "status": "completed"
    },
    "tags": []
   },
   "outputs": [],
   "source": [
    "#set ids as PassengerId and predict survival\n",
    "ids = df_test['PassengerId']\n",
    "predictions = best_model.predict(df_test.drop('PassengerId', axis=1))\n",
    "\n",
    "#set the output as a dataframe and convert to csv file named submission.csv\n",
    "output = pd.DataFrame({ 'PassengerId' : ids, 'Survived': predictions })\n",
    "output.to_csv('submission.csv', index=False)"
   ]
  },
  {
   "cell_type": "markdown",
   "id": "8e24a4f4",
   "metadata": {
    "papermill": {
     "duration": 0.042761,
     "end_time": "2024-02-29T14:15:42.207412",
     "exception": false,
     "start_time": "2024-02-29T14:15:42.164651",
     "status": "completed"
    },
    "tags": []
   },
   "source": [
    "**\"If you've made it this far, congratulations, and thank you for taking the time to read! 😊 If you choose to utilize any section of this notebook in a published kernel, I would greatly appreciate credit—simply link back here. Your suggestions are invaluable, so please feel free to share them. Additionally, if you have any questions, don't hesitate to comment below. I'm eager to engage in further discussion and enhance the quality of this work. Thank you! 😊\"**"
   ]
  },
  {
   "cell_type": "markdown",
   "id": "6158b7e7",
   "metadata": {
    "papermill": {
     "duration": 0.042662,
     "end_time": "2024-02-29T14:15:42.293216",
     "exception": false,
     "start_time": "2024-02-29T14:15:42.250554",
     "status": "completed"
    },
    "tags": []
   },
   "source": [
    "<span style=\"color: red; font-size: 250%; font-weight: bold;\">Best of Luck ❤️</span>"
   ]
  }
 ],
 "metadata": {
  "kaggle": {
   "accelerator": "none",
   "dataSources": [
    {
     "databundleVersionId": 26502,
     "sourceId": 3136,
     "sourceType": "competition"
    }
   ],
   "dockerImageVersionId": 30664,
   "isGpuEnabled": false,
   "isInternetEnabled": true,
   "language": "python",
   "sourceType": "notebook"
  },
  "kernelspec": {
   "display_name": "Python 3",
   "language": "python",
   "name": "python3"
  },
  "language_info": {
   "codemirror_mode": {
    "name": "ipython",
    "version": 3
   },
   "file_extension": ".py",
   "mimetype": "text/x-python",
   "name": "python",
   "nbconvert_exporter": "python",
   "pygments_lexer": "ipython3",
   "version": "3.10.13"
  },
  "papermill": {
   "default_parameters": {},
   "duration": 67.964707,
   "end_time": "2024-02-29T14:15:44.161825",
   "environment_variables": {},
   "exception": null,
   "input_path": "__notebook__.ipynb",
   "output_path": "__notebook__.ipynb",
   "parameters": {},
   "start_time": "2024-02-29T14:14:36.197118",
   "version": "2.5.0"
  }
 },
 "nbformat": 4,
 "nbformat_minor": 5
}
